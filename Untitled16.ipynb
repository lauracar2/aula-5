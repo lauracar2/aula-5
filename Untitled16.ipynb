{
  "nbformat": 4,
  "nbformat_minor": 0,
  "metadata": {
    "colab": {
      "provenance": [],
      "authorship_tag": "ABX9TyNm3iCltKwuRDho1ttyH7Ij",
      "include_colab_link": true
    },
    "kernelspec": {
      "name": "python3",
      "display_name": "Python 3"
    },
    "language_info": {
      "name": "python"
    }
  },
  "cells": [
    {
      "cell_type": "markdown",
      "metadata": {
        "id": "view-in-github",
        "colab_type": "text"
      },
      "source": [
        "<a href=\"https://colab.research.google.com/github/lauracar2/aula-5/blob/main/Untitled16.ipynb\" target=\"_parent\"><img src=\"https://colab.research.google.com/assets/colab-badge.svg\" alt=\"Open In Colab\"/></a>"
      ]
    },
    {
      "cell_type": "code",
      "execution_count": null,
      "metadata": {
        "id": "oAJsq8VIO8dV"
      },
      "outputs": [],
      "source": [
        "tp_frutas = ('maça','uva','pera','laranja')\n",
        "tp_frutas"
      ]
    },
    {
      "cell_type": "code",
      "source": [
        "lst_frutas = list(tp_frutas)\n",
        "type(lst_frutas)\n",
        "lst_frutas"
      ],
      "metadata": {
        "id": "qFqhBRQAP4vo"
      },
      "execution_count": null,
      "outputs": []
    },
    {
      "cell_type": "code",
      "source": [
        "lst_frutas = list(tp_frutas)\n",
        "type(lst_frutas)\n",
        "tp_frutas2 = tuple(lst_frutas)\n",
        "type(tp_frutas2)"
      ],
      "metadata": {
        "id": "XJr1amlaXx-r"
      },
      "execution_count": null,
      "outputs": []
    },
    {
      "cell_type": "code",
      "source": [
        "tp_meses = ('jan','fev','mar','abr','mai','jun','jul','ago','set','out','nov','dez')\n",
        "tp_meses[3:6]"
      ],
      "metadata": {
        "id": "S4T_QZ_EZBz-"
      },
      "execution_count": null,
      "outputs": []
    },
    {
      "cell_type": "code",
      "source": [
        "uf_cod = [('PE', 81), ('RJ',21), ('SP', 11), ('PB', 83)] \n",
        "sorted(uf_cod, key = lambda x : x[1])"
      ],
      "metadata": {
        "id": "n5kqPrmGapIM"
      },
      "execution_count": null,
      "outputs": []
    },
    {
      "cell_type": "code",
      "source": [
        "nome_nasc = [('ZÉ',1970), ('JOÃO', 2003),('JOSÉ',1984),('JÚLIO',1980),('ANDRÉ',2000),('ADRIANO',1987)]\n",
        "sorted(nome_nasc, key = lambda x : x[1], reverse = True ) #do menor para o maior da lista"
      ],
      "metadata": {
        "colab": {
          "base_uri": "https://localhost:8080/"
        },
        "id": "SuvCZ5lAcsZn",
        "outputId": "154894af-06c9-44d5-f13d-4aaddf83de63"
      },
      "execution_count": 23,
      "outputs": [
        {
          "output_type": "execute_result",
          "data": {
            "text/plain": [
              "[('JOÃO', 2003),\n",
              " ('ANDRÉ', 2000),\n",
              " ('ADRIANO', 1987),\n",
              " ('JOSÉ', 1984),\n",
              " ('JÚLIO', 1980),\n",
              " ('ZÉ', 1970)]"
            ]
          },
          "metadata": {},
          "execution_count": 23
        }
      ]
    },
    {
      "cell_type": "code",
      "source": [
        "nome_nasc = [('ZÉ',1970), ('JOÃO', 2003),('JOSÉ',1984),('JÚLIO',1980),('ANDRÉ',2000),('ADRIANO',1987)]\n",
        "sorted(nome_nasc, key = lambda x : x[1]) #do maior para o menor"
      ],
      "metadata": {
        "colab": {
          "base_uri": "https://localhost:8080/"
        },
        "id": "jW1YoS20eqAk",
        "outputId": "e0bd7e07-3e16-4e92-ee7e-a9cd01a4cc24"
      },
      "execution_count": 22,
      "outputs": [
        {
          "output_type": "execute_result",
          "data": {
            "text/plain": [
              "[('ZÉ', 1970),\n",
              " ('JÚLIO', 1980),\n",
              " ('JOSÉ', 1984),\n",
              " ('ADRIANO', 1987),\n",
              " ('ANDRÉ', 2000),\n",
              " ('JOÃO', 2003)]"
            ]
          },
          "metadata": {},
          "execution_count": 22
        }
      ]
    },
    {
      "cell_type": "code",
      "source": [
        "def nome_idade_uf():\n",
        "  nome = \"josé\"\n",
        "  idade = 28\n",
        "  uf = 'RN'\n",
        "  return nome,idade,uf\n",
        "\n",
        "name, age, uf = nome_idade_uf()  \n",
        "\n",
        "\n",
        "print(name,age,uf)\n"
      ],
      "metadata": {
        "colab": {
          "base_uri": "https://localhost:8080/"
        },
        "id": "lo3P-T6DfUNM",
        "outputId": "38fc6331-5b11-4432-d7e8-205234d1fd49"
      },
      "execution_count": 24,
      "outputs": [
        {
          "output_type": "stream",
          "name": "stdout",
          "text": [
            "josé 28 RN\n"
          ]
        }
      ]
    },
    {
      "cell_type": "code",
      "source": [
        "alunos = ('joão', 'jully','marcos','brenda','ricardo')\n",
        "notas = (6.5,8,7.5,2,10)\n",
        "Av1 = tuple(zip(alunos, notas))\n",
        "\n",
        "Av1"
      ],
      "metadata": {
        "colab": {
          "base_uri": "https://localhost:8080/"
        },
        "id": "1HBlLxJ3mgDN",
        "outputId": "325abbbd-b5ec-4b90-c424-69f129eb0488"
      },
      "execution_count": 25,
      "outputs": [
        {
          "output_type": "execute_result",
          "data": {
            "text/plain": [
              "(('joão', 6.5), ('jully', 8), ('marcos', 7.5), ('brenda', 2), ('ricardo', 10))"
            ]
          },
          "metadata": {},
          "execution_count": 25
        }
      ]
    }
  ]
}