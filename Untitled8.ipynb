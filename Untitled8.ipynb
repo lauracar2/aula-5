{
  "nbformat": 4,
  "nbformat_minor": 0,
  "metadata": {
    "colab": {
      "provenance": [],
      "authorship_tag": "ABX9TyPAAZdtH0IRGC2dofLW+yRE",
      "include_colab_link": true
    },
    "kernelspec": {
      "name": "python3",
      "display_name": "Python 3"
    },
    "language_info": {
      "name": "python"
    }
  },
  "cells": [
    {
      "cell_type": "markdown",
      "metadata": {
        "id": "view-in-github",
        "colab_type": "text"
      },
      "source": [
        "<a href=\"https://colab.research.google.com/github/lauracar2/aula-5/blob/main/Untitled8.ipynb\" target=\"_parent\"><img src=\"https://colab.research.google.com/assets/colab-badge.svg\" alt=\"Open In Colab\"/></a>"
      ]
    },
    {
      "cell_type": "code",
      "execution_count": 1,
      "metadata": {
        "id": "HM5644gnC2nL"
      },
      "outputs": [],
      "source": [
        "# função calcula média #\n",
        "\n",
        "def calculaMedia(x,y,z):\n",
        "  return (x+y+z)/3\n",
        "  "
      ]
    },
    {
      "cell_type": "code",
      "source": [
        "a = float(input('nota1 '))\n",
        "b = float(input('nota2 '))\n",
        "c = float(input('nota3 '))\n",
        "\n",
        "calculaMedia(a, b, c)"
      ],
      "metadata": {
        "colab": {
          "base_uri": "https://localhost:8080/"
        },
        "id": "b64QMF1KJ1sz",
        "outputId": "11b567ba-7784-4ba1-f1cf-147b5560c346"
      },
      "execution_count": 5,
      "outputs": [
        {
          "name": "stdout",
          "output_type": "stream",
          "text": [
            "nota1 9\n",
            "nota2 9\n",
            "nota3 6\n"
          ]
        },
        {
          "output_type": "execute_result",
          "data": {
            "text/plain": [
              "8.0"
            ]
          },
          "metadata": {},
          "execution_count": 5
        }
      ]
    },
    {
      "cell_type": "code",
      "source": [
        "def mediaTotal(*notas):\n",
        "  soma = 0\n",
        "  for notas in notas:\n",
        "   soma += notas\n",
        "  media = soma/len(notas) \n",
        "  return round(media, 3)"
      ],
      "metadata": {
        "id": "vAslRYnFL7o2"
      },
      "execution_count": 53,
      "outputs": []
    },
    {
      "cell_type": "code",
      "source": [
        "def retorneoMaior(*num):\n",
        " maior = 0\n",
        " for n in num:\n",
        "   if(n >= maior):\n",
        "    maior = n \n",
        "   return(n)"
      ],
      "metadata": {
        "id": "cWVf1ZuVPTS4"
      },
      "execution_count": 156,
      "outputs": []
    },
    {
      "cell_type": "code",
      "source": [
        "retorneoMaior(80,73,4,1)"
      ],
      "metadata": {
        "colab": {
          "base_uri": "https://localhost:8080/"
        },
        "id": "y2tB-tnUR2iS",
        "outputId": "7a8816c8-9689-4f05-af05-15f34c6c54e3"
      },
      "execution_count": 158,
      "outputs": [
        {
          "output_type": "execute_result",
          "data": {
            "text/plain": [
              "80"
            ]
          },
          "metadata": {},
          "execution_count": 158
        }
      ]
    },
    {
      "cell_type": "code",
      "source": [
        "def nacionalidade(country = 'cuba'):\n",
        "  print('Eu nasci em '+ country)"
      ],
      "metadata": {
        "id": "ugzXXTLReyle"
      },
      "execution_count": 159,
      "outputs": []
    },
    {
      "cell_type": "code",
      "source": [
        "nacionalidade('Brasil')\n",
        "nacionalidade('Argentina')\n",
        "nacionalidade('França')\n",
        "nacionalidade('Italia')\n",
        "nacionalidade('Jordânia')"
      ],
      "metadata": {
        "colab": {
          "base_uri": "https://localhost:8080/"
        },
        "id": "YZZHsUCKfHql",
        "outputId": "2bbe035c-de14-48e7-92d4-320ace2c06bc"
      },
      "execution_count": 160,
      "outputs": [
        {
          "output_type": "stream",
          "name": "stdout",
          "text": [
            "Eu nasci em Brasil\n",
            "Eu nasci em Argentina\n",
            "Eu nasci em França\n",
            "Eu nasci em Italia\n",
            "Eu nasci em Jordânia\n"
          ]
        }
      ]
    },
    {
      "cell_type": "code",
      "source": [
        "def sominha(a,b):\n",
        "  return a + b\n",
        "sominha(4,5)"
      ],
      "metadata": {
        "colab": {
          "base_uri": "https://localhost:8080/"
        },
        "id": "FH_-WTKxhfLO",
        "outputId": "def75f85-ed8f-4542-bbb3-2b872a7fa0fc"
      },
      "execution_count": 166,
      "outputs": [
        {
          "output_type": "execute_result",
          "data": {
            "text/plain": [
              "9"
            ]
          },
          "metadata": {},
          "execution_count": 166
        }
      ]
    },
    {
      "cell_type": "code",
      "source": [
        "def valorabsoluto(numm):\n",
        "  if(numm <= 0):\n",
        "    num = numm * -1\n",
        "    return num"
      ],
      "metadata": {
        "id": "4LIlgqvPiKaP"
      },
      "execution_count": 168,
      "outputs": []
    },
    {
      "cell_type": "code",
      "source": [
        "valorabsoluto(-34)"
      ],
      "metadata": {
        "colab": {
          "base_uri": "https://localhost:8080/"
        },
        "id": "Ym_CCtTxjEqA",
        "outputId": "ab52e90a-073a-42ef-c939-8ba758a990cd"
      },
      "execution_count": 171,
      "outputs": [
        {
          "output_type": "execute_result",
          "data": {
            "text/plain": [
              "34"
            ]
          },
          "metadata": {},
          "execution_count": 171
        }
      ]
    },
    {
      "cell_type": "code",
      "source": [
        "def palavrasM3(lista):\n",
        "  M3 = []\n",
        "  for item in M3:\n",
        "     if(len(item) > 3):\n",
        "       M3.append(item)\n",
        "  return M3    "
      ],
      "metadata": {
        "id": "W04SZWsPjb8Q"
      },
      "execution_count": 176,
      "outputs": []
    },
    {
      "cell_type": "code",
      "source": [
        "frutas = ['manga', 'morango', 'uva', 'pinha']\n",
        "palavrasM3(frutas)"
      ],
      "metadata": {
        "colab": {
          "base_uri": "https://localhost:8080/"
        },
        "id": "ISs24226kKlP",
        "outputId": "1ae92245-f731-4881-bff8-64cf57fbb408"
      },
      "execution_count": 181,
      "outputs": [
        {
          "output_type": "execute_result",
          "data": {
            "text/plain": [
              "[]"
            ]
          },
          "metadata": {},
          "execution_count": 181
        }
      ]
    }
  ]
}