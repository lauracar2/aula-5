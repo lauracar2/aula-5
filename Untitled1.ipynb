{
  "nbformat": 4,
  "nbformat_minor": 0,
  "metadata": {
    "colab": {
      "provenance": [],
      "authorship_tag": "ABX9TyPPtQxPhm4PZAKh2gVWASKD",
      "include_colab_link": true
    },
    "kernelspec": {
      "name": "python3",
      "display_name": "Python 3"
    },
    "language_info": {
      "name": "python"
    }
  },
  "cells": [
    {
      "cell_type": "markdown",
      "metadata": {
        "id": "view-in-github",
        "colab_type": "text"
      },
      "source": [
        "<a href=\"https://colab.research.google.com/github/lauracar2/aula-5/blob/main/Untitled1.ipynb\" target=\"_parent\"><img src=\"https://colab.research.google.com/assets/colab-badge.svg\" alt=\"Open In Colab\"/></a>"
      ]
    },
    {
      "cell_type": "code",
      "execution_count": 1,
      "metadata": {
        "colab": {
          "base_uri": "https://localhost:8080/"
        },
        "id": "rfvxACa4EgGX",
        "outputId": "2cddfd7a-1fac-49bd-e89c-cd4ec68a706f"
      },
      "outputs": [
        {
          "output_type": "stream",
          "name": "stdout",
          "text": [
            "Digite o peso! 53\n",
            "Digite a altura!167\n",
            "Abaixo do peso, otaro\n",
            "O IMC do paciente é: 0.0\n"
          ]
        }
      ],
      "source": [
        "peso = float(input('Digite o peso! '))\n",
        "altura = float(input('Digite a altura!'))\n",
        "imc = peso/altura**2\n",
        "if(imc < 18.5):\n",
        "  print('Abaixo do peso, otaro')\n",
        "elif(imc < 25):\n",
        "  print('Tai bem')\n",
        "elif(imc < 30):\n",
        "  print('Buchin tá aparecendo')\n",
        "elif(imc < 35):\n",
        "  print('Obeso I')\n",
        "elif(imc < 40):\n",
        "  print('Obeso II')\n",
        "else:\n",
        "  print('Obeso III')\n",
        "print('O IMC do paciente é:', round(imc,2))\n",
        "     "
      ]
    }
  ]
}