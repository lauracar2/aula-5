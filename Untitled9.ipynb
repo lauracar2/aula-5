{
  "nbformat": 4,
  "nbformat_minor": 0,
  "metadata": {
    "colab": {
      "provenance": [],
      "authorship_tag": "ABX9TyN3RINgtwZK0YSLDHDdaqoI",
      "include_colab_link": true
    },
    "kernelspec": {
      "name": "python3",
      "display_name": "Python 3"
    },
    "language_info": {
      "name": "python"
    }
  },
  "cells": [
    {
      "cell_type": "markdown",
      "metadata": {
        "id": "view-in-github",
        "colab_type": "text"
      },
      "source": [
        "<a href=\"https://colab.research.google.com/github/lauracar2/aula-5/blob/main/Untitled9.ipynb\" target=\"_parent\"><img src=\"https://colab.research.google.com/assets/colab-badge.svg\" alt=\"Open In Colab\"/></a>"
      ]
    },
    {
      "cell_type": "code",
      "execution_count": 1,
      "metadata": {
        "id": "1YjeeqDcMrab"
      },
      "outputs": [],
      "source": [
        "cont = 2\n",
        "\n",
        "while(cont > 102):\n",
        "  print(cont)\n",
        "  cont+=2"
      ]
    },
    {
      "cell_type": "code",
      "source": [
        "#Pede ao usuário para inserir um número inteiro maior que 1\n",
        "#O programa deve imprimir todos os números(positivos) até o número digitado\n",
        "\n",
        "cont = 0\n",
        "numero = int(input('Digite um número: '))\n",
        "\n",
        "while(cont <= numero):\n",
        "  print(cont)\n",
        "  cont+=2"
      ],
      "metadata": {
        "id": "F3cMahHUQ9S9"
      },
      "execution_count": null,
      "outputs": []
    },
    {
      "cell_type": "code",
      "source": [
        "#Cria uma lista de compras, encerra caso digite 0.\n",
        "comprasLista = []\n",
        "\n",
        "item = input('Digite o item: ')\n",
        "\n",
        "while (item != '0'):\n",
        "  comprasLista.append(item)\n",
        "  item = input('Digite o item: ')\n",
        "\n",
        "comprasLista"
      ],
      "metadata": {
        "colab": {
          "base_uri": "https://localhost:8080/"
        },
        "id": "bLCSJom9Uoyr",
        "outputId": "6694905b-f067-4d6d-c9f9-10ad7acccb14"
      },
      "execution_count": 10,
      "outputs": [
        {
          "name": "stdout",
          "output_type": "stream",
          "text": [
            "Digite o item: chocolate\n",
            "Digite o item: pão\n",
            "Digite o item: miojo\n",
            "Digite o item: sorvete\n",
            "Digite o item: frango\n",
            "Digite o item: feijão\n",
            "Digite o item: açaí\n",
            "Digite o item: queijo\n",
            "Digite o item: presunto\n",
            "Digite o item: 0\n"
          ]
        },
        {
          "output_type": "execute_result",
          "data": {
            "text/plain": [
              "['chocolate',\n",
              " 'pão',\n",
              " 'miojo',\n",
              " 'sorvete',\n",
              " 'frango',\n",
              " 'feijão',\n",
              " 'açaí',\n",
              " 'queijo',\n",
              " 'presunto']"
            ]
          },
          "metadata": {},
          "execution_count": 10
        }
      ]
    },
    {
      "cell_type": "code",
      "source": [
        "#jogo de adivinhação#\n",
        "import random \n",
        "\n",
        "\n",
        "num = random.randrange(101)\n",
        "minimo = 0\n",
        "maximo = 100\n",
        "pitaco = int(input(f'Chute um número entre {minimo} e {maximo}: '))\n",
        "cont = 1\n",
        "\n",
        "while(num != pitaco):\n",
        "  if(pitaco > num):\n",
        "    maximo = pitaco\n",
        "  else:\n",
        "    minimo = pitaco\n",
        "  pitaco = int(input(f'Chute um número entre {minimo} e {maximo}: '))\n",
        "  cont+=1\n",
        "\n",
        "print(f'ACERTOU, MIZERAVE! {cont} tentativas!') 98"
      ],
      "metadata": {
        "id": "-lAu4OwbUrvG"
      },
      "execution_count": null,
      "outputs": []
    },
    {
      "cell_type": "code",
      "source": [
        "num = input('Digite um número: ')\n",
        "num.isdigit()"
      ],
      "metadata": {
        "colab": {
          "base_uri": "https://localhost:8080/"
        },
        "id": "kJWO0ooAW2aL",
        "outputId": "97eff927-d3f8-42e0-f855-d3d78a7022d4"
      },
      "execution_count": 12,
      "outputs": [
        {
          "name": "stdout",
          "output_type": "stream",
          "text": [
            "Digite um número: 10\n"
          ]
        },
        {
          "output_type": "execute_result",
          "data": {
            "text/plain": [
              "True"
            ]
          },
          "metadata": {},
          "execution_count": 12
        }
      ]
    },
    {
      "cell_type": "code",
      "source": [
        "nome = input('Digie o seu nome: ')\n",
        "if (nome.isdigit()):\n",
        "  print('Entrada incorreta! ')\n",
        "\n",
        "else:\n",
        "  print('ENTRADA CORRETA!!!!!!!!!!!')\n"
      ],
      "metadata": {
        "id": "5iSIbm-RXmRb"
      },
      "execution_count": null,
      "outputs": []
    }
  ]
}