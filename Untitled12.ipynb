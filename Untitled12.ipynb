{
  "nbformat": 4,
  "nbformat_minor": 0,
  "metadata": {
    "colab": {
      "provenance": [],
      "authorship_tag": "ABX9TyOW+p3eC7sUUvRMhE2jo1Q0",
      "include_colab_link": true
    },
    "kernelspec": {
      "name": "python3",
      "display_name": "Python 3"
    },
    "language_info": {
      "name": "python"
    }
  },
  "cells": [
    {
      "cell_type": "markdown",
      "metadata": {
        "id": "view-in-github",
        "colab_type": "text"
      },
      "source": [
        "<a href=\"https://colab.research.google.com/github/lauracar2/aula-5/blob/main/Untitled12.ipynb\" target=\"_parent\"><img src=\"https://colab.research.google.com/assets/colab-badge.svg\" alt=\"Open In Colab\"/></a>"
      ]
    },
    {
      "cell_type": "code",
      "source": [
        "# REVISÃO DE PYTHON #\n",
        "#####################################################################################################################################################################################"
      ],
      "metadata": {
        "id": "Bgcg0n_evOmj"
      },
      "execution_count": null,
      "outputs": []
    },
    {
      "cell_type": "code",
      "source": [
        "nome = input('Digite seu nome: ') #informações#\n",
        "idade = input('Digite sua idade: ')\n",
        "peso = input('Digite o seu peso: ')\n",
        "\n",
        "print(f' olá, meu é {nome}. Tenho {idade} anos, e peso {peso} kg.')"
      ],
      "metadata": {
        "colab": {
          "base_uri": "https://localhost:8080/"
        },
        "id": "pDPqq8V-YrQA",
        "outputId": "2e220755-7b75-452a-b5f7-26ac338b7852"
      },
      "execution_count": 5,
      "outputs": [
        {
          "output_type": "stream",
          "name": "stdout",
          "text": [
            "Digite seu nome: laura\n",
            "Digite sua idade: 18\n",
            "Digite o seu peso: 54\n",
            " olá, meu é laura. Tenho 18 anos, e peso 54 kg.\n"
          ]
        }
      ]
    },
    {
      "cell_type": "code",
      "source": [
        "# calculando  imc #\n",
        "\n",
        "peso = float(input('Digite o seu peso: '))\n",
        "altura = float(input('Digite a altura: '))\n",
        "\n",
        "imc = peso / (altura*altura)\n",
        "print(f'seu imc é: {imc:,.2f}')\n",
        "     "
      ],
      "metadata": {
        "colab": {
          "base_uri": "https://localhost:8080/"
        },
        "id": "zHmoaYdHaPGa",
        "outputId": "59517957-4100-4bd6-d44b-dbb9a7b91978"
      },
      "execution_count": 7,
      "outputs": [
        {
          "output_type": "stream",
          "name": "stdout",
          "text": [
            "Digite o seu peso: 54\n",
            "Digite a altura: 168\n",
            "seu imc é: 0.00\n"
          ]
        }
      ]
    },
    {
      "cell_type": "code",
      "source": [
        "# validação de código #\n",
        "codigo = float(input('insira o código de 4 digitos!'))\n",
        "if (codigo > 7998):\n",
        "  print('Parabéns, você passou!')\n",
        "else:\n",
        "  print('você não ppode passar!')"
      ],
      "metadata": {
        "colab": {
          "base_uri": "https://localhost:8080/"
        },
        "id": "TymqiejFdH34",
        "outputId": "071d5857-3d3f-46a7-ea78-07512c7d93ec"
      },
      "execution_count": 16,
      "outputs": [
        {
          "output_type": "stream",
          "name": "stdout",
          "text": [
            "insira o código de 4 digitos!8765\n",
            "Parabéns, você passou!\n"
          ]
        }
      ]
    },
    {
      "cell_type": "code",
      "source": [
        "codigos = [123,432,768,988,765,4564,987,198] # ocultação de itens da lista #\n",
        "codigos.pop(3)\n",
        "\n",
        "\n",
        "codigos"
      ],
      "metadata": {
        "colab": {
          "base_uri": "https://localhost:8080/"
        },
        "id": "vs_HDff_gjeG",
        "outputId": "8fd3b9fd-abf4-4062-f756-a547090379a9"
      },
      "execution_count": 59,
      "outputs": [
        {
          "output_type": "execute_result",
          "data": {
            "text/plain": [
              "[123, 432, 768, 765, 4564, 987, 198]"
            ]
          },
          "metadata": {},
          "execution_count": 59
        }
      ]
    },
    {
      "cell_type": "code",
      "source": [
        "codigos.append(input('Digite um código: ')) # adicionando item a lista #"
      ],
      "metadata": {
        "colab": {
          "base_uri": "https://localhost:8080/"
        },
        "id": "f1AME5xFg-KH",
        "outputId": "964dcc6c-5e75-4557-fd87-be06c14e5999"
      },
      "execution_count": 37,
      "outputs": [
        {
          "name": "stdout",
          "output_type": "stream",
          "text": [
            "Digite um código: 323\n"
          ]
        }
      ]
    },
    {
      "cell_type": "code",
      "source": [
        "codigos #print"
      ],
      "metadata": {
        "colab": {
          "base_uri": "https://localhost:8080/"
        },
        "id": "TNYU1apthmfc",
        "outputId": "bac80b78-f67b-48a7-a0d1-d278b483a5f6"
      },
      "execution_count": 38,
      "outputs": [
        {
          "output_type": "execute_result",
          "data": {
            "text/plain": [
              "[123, 432, 768, 988, 765, 4564, 987, 198, '323']"
            ]
          },
          "metadata": {},
          "execution_count": 38
        }
      ]
    },
    {
      "cell_type": "code",
      "source": [
        "if 888 in codigos: #conferindo dados de uma lista#\n",
        "  print('Tem sim!!')\n",
        "else:\n",
        "  print('Tem não')  "
      ],
      "metadata": {
        "colab": {
          "base_uri": "https://localhost:8080/"
        },
        "id": "YNfwmbkBhwhA",
        "outputId": "6932f1bc-cd48-4eb6-ce7c-91035a4a52d0"
      },
      "execution_count": 39,
      "outputs": [
        {
          "output_type": "stream",
          "name": "stdout",
          "text": [
            "Tem não\n"
          ]
        }
      ]
    },
    {
      "cell_type": "code",
      "source": [
        "if 987 in codigos: # contn\n",
        "  print('Tem sim!!')\n",
        "else:\n",
        "  print('Tem não')  "
      ],
      "metadata": {
        "colab": {
          "base_uri": "https://localhost:8080/"
        },
        "id": "OPJB313ziJ70",
        "outputId": "5d861f8e-a1ca-47cd-b069-28772c82ba59"
      },
      "execution_count": 40,
      "outputs": [
        {
          "output_type": "stream",
          "name": "stdout",
          "text": [
            "Tem sim!!\n"
          ]
        }
      ]
    },
    {
      "cell_type": "code",
      "source": [
        "num = input('Digite o código que procura: ') #validação de código#\n",
        "if num in codigos:\n",
        "   print('Código encontrado com sucesso!', num)\n",
        "else:\n",
        "   print('Infelizmente não foi possível encontrar!!', num)  \n"
      ],
      "metadata": {
        "id": "sbjn8rCfiSgX"
      },
      "execution_count": null,
      "outputs": []
    },
    {
      "cell_type": "code",
      "source": [
        "                                                        # laço for #"
      ],
      "metadata": {
        "id": "ySf4VkkFxIcl"
      },
      "execution_count": null,
      "outputs": []
    },
    {
      "cell_type": "code",
      "source": [
        "#laço for contagem de números #\n",
        "\n",
        "numeros = []\n",
        "for num in range(40):\n",
        "  numeros.append(num)\n",
        "\n",
        "\n",
        "numeros  "
      ],
      "metadata": {
        "id": "4dmpQh3mkPQk"
      },
      "execution_count": null,
      "outputs": []
    },
    {
      "cell_type": "code",
      "source": [
        "# importando random #\n",
        "import random\n",
        "\n",
        "num2 = []\n",
        "for num in range(random.randrange(0, 59)):\n",
        "  num2.append(num)\n",
        "\n",
        "num2"
      ],
      "metadata": {
        "colab": {
          "base_uri": "https://localhost:8080/"
        },
        "id": "8iXfqUVcmbTP",
        "outputId": "46083183-f62f-4826-bd95-465d1035f347"
      },
      "execution_count": 73,
      "outputs": [
        {
          "output_type": "execute_result",
          "data": {
            "text/plain": [
              "[0, 1, 2, 3, 4, 5, 6, 7, 8, 9, 10, 11, 12, 13, 14, 15, 16, 17, 18, 19, 20]"
            ]
          },
          "metadata": {},
          "execution_count": 73
        }
      ]
    },
    {
      "cell_type": "code",
      "source": [
        "import random # números multiplos #\n",
        "a = random.randrange(200)\n",
        "\n",
        "a"
      ],
      "metadata": {
        "colab": {
          "base_uri": "https://localhost:8080/"
        },
        "id": "BPMZV2tun9sP",
        "outputId": "45747847-aea0-4921-b2b9-42a9e837853f"
      },
      "execution_count": 74,
      "outputs": [
        {
          "output_type": "execute_result",
          "data": {
            "text/plain": [
              "93"
            ]
          },
          "metadata": {},
          "execution_count": 74
        }
      ]
    },
    {
      "cell_type": "code",
      "source": [
        "# descobrindo se o número é par #\n",
        "\n",
        "a = int(input('Digite o número: '))\n",
        "if a % 2 == 0:\n",
        "  print('É par')\n",
        "else:\n",
        "  print('É IMPAR')  "
      ],
      "metadata": {
        "colab": {
          "base_uri": "https://localhost:8080/"
        },
        "id": "ueqjJ_FdriYe",
        "outputId": "d9949d50-93be-4fe2-ced2-f81d4e710934"
      },
      "execution_count": 76,
      "outputs": [
        {
          "output_type": "stream",
          "name": "stdout",
          "text": [
            "Digite o número: 13\n",
            "É IMPAR\n"
          ]
        }
      ]
    },
    {
      "cell_type": "code",
      "source": [
        "numPares = []   # contador de números pares #\n",
        "for num in range(60):\n",
        "   if (num % 2 == 0):\n",
        "     numPares.append(num)\n",
        "\n",
        "numPares     "
      ],
      "metadata": {
        "id": "emuGJW7TubGh"
      },
      "execution_count": null,
      "outputs": []
    },
    {
      "cell_type": "code",
      "source": [
        "mult = []  # lista de números multiplos de 3 #\n",
        "for multi in range(100):\n",
        "   if (multi % 3 == 0):\n",
        "     mult.append(multi)\n",
        "\n",
        "mult     "
      ],
      "metadata": {
        "id": "rJxXTRY2v04D"
      },
      "execution_count": null,
      "outputs": []
    },
    {
      "cell_type": "code",
      "source": [
        "                                                        # laço while #"
      ],
      "metadata": {
        "id": "2qaZcq5OxRXB"
      },
      "execution_count": null,
      "outputs": []
    },
    {
      "cell_type": "code",
      "source": [
        "cont = 1\n",
        "while (cont > 100):\n",
        "  print(cont)\n",
        "  cont+=1"
      ],
      "metadata": {
        "id": "lvwxP9YixVvZ"
      },
      "execution_count": 79,
      "outputs": []
    },
    {
      "cell_type": "code",
      "source": [
        "cont = 0\n",
        "numero = int(input('Digite um número maior que 0: '))\n",
        "\n",
        "\n",
        "while (cont <= numero):\n",
        "  print(cont)\n",
        "  cont+=1"
      ],
      "metadata": {
        "id": "_oFsroCUx1NK"
      },
      "execution_count": null,
      "outputs": []
    },
    {
      "cell_type": "code",
      "source": [
        "numerosss = []\n",
        "item = input('Digite o numero: ')\n",
        "\n",
        "while (item != 'ué'):\n",
        "  numerosss.append(item)\n",
        "  item = input('Digite o número:')\n",
        "\n",
        "\n",
        "numerosss "
      ],
      "metadata": {
        "colab": {
          "base_uri": "https://localhost:8080/"
        },
        "id": "mdoLiYXczI7l",
        "outputId": "9330e9fd-1a6b-42f4-9513-382907201ff9"
      },
      "execution_count": 86,
      "outputs": [
        {
          "name": "stdout",
          "output_type": "stream",
          "text": [
            "Digite o numero: 1\n",
            "Digite o número:2\n",
            "Digite o número:3\n",
            "Digite o número:ué\n"
          ]
        },
        {
          "output_type": "execute_result",
          "data": {
            "text/plain": [
              "['1', '2', '3']"
            ]
          },
          "metadata": {},
          "execution_count": 86
        }
      ]
    },
    {
      "cell_type": "code",
      "source": [],
      "metadata": {
        "id": "DI8NMSuy0wdh"
      },
      "execution_count": null,
      "outputs": []
    }
  ]
}