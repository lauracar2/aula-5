{
  "nbformat": 4,
  "nbformat_minor": 0,
  "metadata": {
    "colab": {
      "provenance": [],
      "authorship_tag": "ABX9TyPqA3BwkIinl09/iTFnJeQq",
      "include_colab_link": true
    },
    "kernelspec": {
      "name": "python3",
      "display_name": "Python 3"
    },
    "language_info": {
      "name": "python"
    }
  },
  "cells": [
    {
      "cell_type": "markdown",
      "metadata": {
        "id": "view-in-github",
        "colab_type": "text"
      },
      "source": [
        "<a href=\"https://colab.research.google.com/github/lauracar2/aula-5/blob/main/Untitled11.ipynb\" target=\"_parent\"><img src=\"https://colab.research.google.com/assets/colab-badge.svg\" alt=\"Open In Colab\"/></a>"
      ]
    },
    {
      "cell_type": "code",
      "execution_count": 28,
      "metadata": {
        "id": "UGlGS2hiLPu_"
      },
      "outputs": [],
      "source": [
        "# Lista de strings que retorna a letra A #\n",
        "def listaA(palavras):\n",
        "  cont = 0\n",
        "  palavra = []\n",
        "  for  i in palavras:\n",
        "    if( i[0].upper == 'a'):\n",
        "      palavra.append(i)\n",
        "      cont+=1\n",
        "      return palavra"
      ]
    },
    {
      "cell_type": "code",
      "source": [
        "comida = ['alface', 'macarrão', 'feijão', 'amendoin']\n",
        "for i in comida:\n",
        "  if i[0] == 'a':\n",
        "    print(i)\n",
        "  "
      ],
      "metadata": {
        "colab": {
          "base_uri": "https://localhost:8080/"
        },
        "id": "EmiuRkyINeWA",
        "outputId": "0b85762f-89f0-4172-d94e-501f5da6c81a"
      },
      "execution_count": 29,
      "outputs": [
        {
          "output_type": "stream",
          "name": "stdout",
          "text": [
            "alface\n",
            "amendoin\n"
          ]
        }
      ]
    },
    {
      "cell_type": "code",
      "source": [
        "def produto(numeros):\n",
        "  resultado = 1 \n",
        "  for numer in numeros:\n",
        "    resultado *= numer\n",
        "  return resultado  \n",
        "\n",
        "numeres = [3,2,6,4,7] \n",
        "produto(numeres) "
      ],
      "metadata": {
        "colab": {
          "base_uri": "https://localhost:8080/"
        },
        "id": "iaRTxuoWauYs",
        "outputId": "9a4b3e1a-6abb-4a33-da16-2fc529f65f44"
      },
      "execution_count": 36,
      "outputs": [
        {
          "output_type": "execute_result",
          "data": {
            "text/plain": [
              "1008"
            ]
          },
          "metadata": {},
          "execution_count": 36
        }
      ]
    },
    {
      "cell_type": "code",
      "source": [
        "def somatorio(numero):\n",
        " \n",
        "  soma = 0\n",
        "  for n in numero:\n",
        "    if n % 2 == 0: \n",
        "      soma += n\n",
        "  return soma"
      ],
      "metadata": {
        "id": "cz7Fev6FYXFj"
      },
      "execution_count": 65,
      "outputs": []
    },
    {
      "cell_type": "code",
      "source": [
        "numeres = [23,45,3,6,8,3,9,2,8,2,5,66,43,23,22,90]\n",
        "somatorio(numeres)\n"
      ],
      "metadata": {
        "colab": {
          "base_uri": "https://localhost:8080/"
        },
        "id": "oKuIWxnOZ1lv",
        "outputId": "94bef067-a43a-4542-e986-9461e82d1818"
      },
      "execution_count": 66,
      "outputs": [
        {
          "output_type": "execute_result",
          "data": {
            "text/plain": [
              "204"
            ]
          },
          "metadata": {},
          "execution_count": 66
        }
      ]
    }
  ]
}