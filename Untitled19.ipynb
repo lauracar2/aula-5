{
  "nbformat": 4,
  "nbformat_minor": 0,
  "metadata": {
    "colab": {
      "provenance": [],
      "authorship_tag": "ABX9TyMNmWOMTIEclC0PtkQGv1A/",
      "include_colab_link": true
    },
    "kernelspec": {
      "name": "python3",
      "display_name": "Python 3"
    },
    "language_info": {
      "name": "python"
    }
  },
  "cells": [
    {
      "cell_type": "markdown",
      "metadata": {
        "id": "view-in-github",
        "colab_type": "text"
      },
      "source": [
        "<a href=\"https://colab.research.google.com/github/lauracar2/aula-5/blob/main/Untitled19.ipynb\" target=\"_parent\"><img src=\"https://colab.research.google.com/assets/colab-badge.svg\" alt=\"Open In Colab\"/></a>"
      ]
    },
    {
      "cell_type": "markdown",
      "source": [
        "Revissão de aulas anteriores!!"
      ],
      "metadata": {
        "id": "9QMbdZ2vODl-"
      }
    },
    {
      "cell_type": "code",
      "source": [
        "#ultilização de if,elif e else#\n",
        "\n",
        "nome = input(\"Digite seu nome: \")\n",
        "idade = int(input(\"Digite a sua idade: \"))\n",
        "if(idade >= 18):\n",
        "  print(\"Entrada confirmada com sucesso!!\")\n",
        "elif(idade == 17):\n",
        "  print(\"Exessão\")\n",
        "else:\n",
        "  print(\"Acesso negadoooooo\")    "
      ],
      "metadata": {
        "id": "iwnu_ivtMqdK"
      },
      "execution_count": null,
      "outputs": []
    },
    {
      "cell_type": "code",
      "source": [
        "sexualidade = input(\"Digite a sua sexualidade: \")\n",
        "idade = int(input(\"Digite a sua idade: \"))\n",
        "if(sexualidade == 'F' and idade >= 55):\n",
        "  print(\"Pode se aposentar \")\n",
        "elif(sexualidade == 'M' and idade >= 60):\n",
        "  print(\"Se aposente pelo amor de Deusssssssssss\")\n",
        "else:\n",
        "  print(\"Ainda nãooooooooooooooooooooooooo\")    "
      ],
      "metadata": {
        "id": "oNbA-3-rOL6E"
      },
      "execution_count": null,
      "outputs": []
    },
    {
      "cell_type": "code",
      "source": [
        "a = int(input(\"Digite um número: \"))\n",
        "b = int(input(\"Digite um segundo número: \"))\n",
        "c = int(input(\"Digite o segundo número:  \"))\n",
        "\n",
        "if(a+b > c):\n",
        "  print(\"É menor\")\n",
        "else:\n",
        "  print(\"É maior\")  \n",
        "\n"
      ],
      "metadata": {
        "id": "kHDXRx3GQEUn"
      },
      "execution_count": null,
      "outputs": []
    },
    {
      "cell_type": "markdown",
      "source": [
        "Revisão de listas"
      ],
      "metadata": {
        "id": "K1P2UF5DRnQl"
      }
    },
    {
      "cell_type": "code",
      "source": [
        "num = [1,2,3,4,5,6,7,80]"
      ],
      "metadata": {
        "id": "nLiUUeJqRrlg"
      },
      "execution_count": null,
      "outputs": []
    },
    {
      "cell_type": "code",
      "source": [
        "len(num)"
      ],
      "metadata": {
        "id": "_12z9xG-RrrV"
      },
      "execution_count": null,
      "outputs": []
    },
    {
      "cell_type": "code",
      "source": [
        "coisas = [1,45,67,\"jumento\",5]   #coleções de coisas aleatórias em lista#\n",
        "coisas"
      ],
      "metadata": {
        "id": "cyjwYkgySBAW"
      },
      "execution_count": null,
      "outputs": []
    },
    {
      "cell_type": "code",
      "source": [
        "#A ordenação das listas têm índice que inicia em 0, e vai até o tamanho da lista menos 1\n",
        "print(num[0]) #Primeiro ítem da lista\n",
        "print(num[1])\n",
        "print(num[2])\n",
        "print(num[3])\n",
        "print(num[4])\n",
        "print(num[5]) #Fora do índice"
      ],
      "metadata": {
        "id": "eW7KZzgVTIXW"
      },
      "execution_count": null,
      "outputs": []
    },
    {
      "cell_type": "code",
      "source": [
        "print(num[0],num[1],num[2],num[3])"
      ],
      "metadata": {
        "id": "cYeFrkrhTI5r"
      },
      "execution_count": null,
      "outputs": []
    },
    {
      "cell_type": "code",
      "source": [
        "#alterando os valores de uma lista\n",
        "pessoas = ['julia','maria','laura','eduarda']"
      ],
      "metadata": {
        "id": "6a-xoGy-T1Nk"
      },
      "execution_count": null,
      "outputs": []
    },
    {
      "cell_type": "code",
      "source": [
        "pessoas[3]= 'josé'\n",
        "pessoas"
      ],
      "metadata": {
        "id": "KwQkCRiLUgMl"
      },
      "execution_count": null,
      "outputs": []
    },
    {
      "cell_type": "code",
      "source": [
        "pessoas.append('Jesus')  #adicionando valores a uma lista de strings\n",
        "pessoas"
      ],
      "metadata": {
        "id": "ZIQfvYSCUsb3"
      },
      "execution_count": null,
      "outputs": []
    },
    {
      "cell_type": "code",
      "source": [
        "pessoas.append(input('Digite um nome: '))"
      ],
      "metadata": {
        "id": "0RJTsoDpV3hV"
      },
      "execution_count": null,
      "outputs": []
    },
    {
      "cell_type": "code",
      "source": [
        "pessoas"
      ],
      "metadata": {
        "id": "qLD7AnthWem5"
      },
      "execution_count": null,
      "outputs": []
    },
    {
      "cell_type": "code",
      "source": [
        "if 'osvaldo' in pessoas:\n",
        "  print('tem osvaldo simmm')\n",
        "else:\n",
        "  print('tem osvaldo não')  "
      ],
      "metadata": {
        "id": "Ojr9srbtWjLw"
      },
      "execution_count": null,
      "outputs": []
    },
    {
      "cell_type": "code",
      "source": [
        "nome = input(\"Digite o nome para a busca na lista: \")\n",
        "if nome in pessoas:\n",
        "  print(\"Tem\", nome)\n",
        "else:\n",
        "  print(\"Não tem\", nome)  "
      ],
      "metadata": {
        "id": "rHw70oHMXpTc"
      },
      "execution_count": null,
      "outputs": []
    },
    {
      "cell_type": "code",
      "source": [
        "del pessoas[0]   #deletando itens de uma lista#\n",
        "pessoas"
      ],
      "metadata": {
        "id": "XcmWybN3dGYr"
      },
      "execution_count": null,
      "outputs": []
    },
    {
      "cell_type": "markdown",
      "source": [
        "laço for"
      ],
      "metadata": {
        "id": "1KuRrTPofDhe"
      }
    },
    {
      "cell_type": "code",
      "source": [
        "comida = ['peixe','coxinha','lasanha','salame']"
      ],
      "metadata": {
        "id": "utvaaFeLe4hR"
      },
      "execution_count": null,
      "outputs": []
    },
    {
      "cell_type": "code",
      "source": [
        "for food in comida:\n",
        "  print(food)"
      ],
      "metadata": {
        "id": "yzOWTf-wgNnc"
      },
      "execution_count": null,
      "outputs": []
    },
    {
      "cell_type": "code",
      "source": [
        "num = [1,2,3,4,5]\n",
        "\n",
        "primos=[]\n",
        "print(primos)\n",
        "primos.append(34)\n",
        "print(primos)\n",
        "primos.append(12)\n",
        "print(primos)"
      ],
      "metadata": {
        "id": "Buh0fPXKgeMj"
      },
      "execution_count": null,
      "outputs": []
    },
    {
      "cell_type": "code",
      "source": [
        "numeros = []\n",
        "for num in range(20):     #range () retorna um conjunto de números sequenciais.\n",
        "  numeros.append(num)     \n",
        "\n",
        "numeros\n"
      ],
      "metadata": {
        "id": "d8LJlfDhhke6"
      },
      "execution_count": null,
      "outputs": []
    },
    {
      "cell_type": "code",
      "source": [
        "import random    #importando a biblioteca random"
      ],
      "metadata": {
        "id": "B59gNBa0jUK3"
      },
      "execution_count": null,
      "outputs": []
    },
    {
      "cell_type": "code",
      "source": [
        "nuns = []\n",
        "for num in range(random.randrange(0,300)):   #numeros sequenciais\n",
        "     nuns.append(num)\n",
        "\n",
        "nuns     "
      ],
      "metadata": {
        "id": "igF2Lczhh43P"
      },
      "execution_count": null,
      "outputs": []
    },
    {
      "cell_type": "code",
      "source": [
        "#Um número será múltiplo de outro, quando o resto da divisão entre eles for 0\n",
        "import random\n",
        "\n",
        "a = random.randrange(100)\n",
        "\n",
        "a"
      ],
      "metadata": {
        "id": "C-OmTm-JkOHg"
      },
      "execution_count": null,
      "outputs": []
    },
    {
      "cell_type": "code",
      "source": [
        "import random \n",
        "\n",
        "\n",
        "b = random.randrange(1000)\n",
        "\n",
        "b"
      ],
      "metadata": {
        "id": "YSYwNydLkOKv"
      },
      "execution_count": null,
      "outputs": []
    },
    {
      "cell_type": "code",
      "source": [
        "# verificando se é par ou impar\n",
        "\n",
        "num = int(input(\"Digite o nuúmero:  \"))\n",
        "if num % 2 == 0 :\n",
        "  print(\"É par\")\n",
        "else:\n",
        "  print(\"É impar\")  "
      ],
      "metadata": {
        "id": "BTuNOwsElLSf"
      },
      "execution_count": null,
      "outputs": []
    },
    {
      "cell_type": "code",
      "source": [
        "#Printar os números pares positivos\n",
        "\n",
        "num = []\n",
        "for n in range(101):\n",
        "  if(n % 2 == 0):\n",
        "    num.append(n)  \n",
        "\n",
        "num    "
      ],
      "metadata": {
        "id": "PZVJFrcXmYGu"
      },
      "execution_count": null,
      "outputs": []
    },
    {
      "cell_type": "code",
      "source": [
        "dobro = []\n",
        "for num in numeros:\n",
        "  dobro.append(num * 2) \n",
        "dobro"
      ],
      "metadata": {
        "id": "tOMo-V2Ko4Ju"
      },
      "execution_count": null,
      "outputs": []
    },
    {
      "cell_type": "code",
      "source": [
        "triplo = []\n",
        "for num in triplo:\n",
        "   triplo.append(num * 3)\n",
        "triplo  "
      ],
      "metadata": {
        "id": "DCZu5hweo7ZE"
      },
      "execution_count": null,
      "outputs": []
    },
    {
      "cell_type": "code",
      "source": [
        "notas = []\n",
        "for num in range(5):\n",
        "  nota1 = int(input(\"Digite a nota: \"))\n",
        "  notas.append(nota1)\n",
        "\n",
        "notas"
      ],
      "metadata": {
        "id": "vXAikch0pbeb"
      },
      "execution_count": null,
      "outputs": []
    },
    {
      "cell_type": "code",
      "source": [],
      "metadata": {
        "id": "cPgEeLIQqjjo"
      },
      "execution_count": null,
      "outputs": []
    },
    {
      "cell_type": "code",
      "source": [
        "soma = 0\n",
        "for n in range(101):\n",
        "  soma = soma+n\n",
        "\n",
        "soma  "
      ],
      "metadata": {
        "id": "eL4eTCDMqjns"
      },
      "execution_count": null,
      "outputs": []
    },
    {
      "cell_type": "markdown",
      "source": [
        "Laço While"
      ],
      "metadata": {
        "id": "AkPK38r-r3BQ"
      }
    },
    {
      "cell_type": "code",
      "source": [
        "cont = 1\n",
        "while(cont < 11):\n",
        "  print(cont)\n",
        "  cont+=1"
      ],
      "metadata": {
        "id": "MfK8lebsrepp"
      },
      "execution_count": null,
      "outputs": []
    },
    {
      "cell_type": "code",
      "source": [
        "cont = 0\n",
        "numeros = int(input(\"Digite um número: \"))\n",
        "\n",
        "while(cont <= numeros):\n",
        "  print(cont)\n",
        "  cont+=1"
      ],
      "metadata": {
        "id": "UmJ0LneCsVIg"
      },
      "execution_count": null,
      "outputs": []
    },
    {
      "cell_type": "code",
      "source": [
        "cont = 0\n",
        "num = int(input(\"Insira um número: \"))\n",
        "\n",
        "while(cont <= num):\n",
        "  print(cont)\n",
        "  cont+=1"
      ],
      "metadata": {
        "id": "XQrcNTFZsVL_"
      },
      "execution_count": null,
      "outputs": []
    },
    {
      "cell_type": "code",
      "source": [
        "comprasList = []\n",
        "\n",
        "item = input(\"Digite itens: \")\n",
        "\n",
        "                                           #encerramento de lista após inserir 0\n",
        "while( item != '0'):\n",
        "  comprasList.append(item)\n",
        "  item = input(\"Digite itens: \")"
      ],
      "metadata": {
        "colab": {
          "base_uri": "https://localhost:8080/"
        },
        "id": "9i9ySlfVcviG",
        "outputId": "d8ed8ef0-9c22-4995-c000-637c08047cd1"
      },
      "execution_count": 11,
      "outputs": [
        {
          "name": "stdout",
          "output_type": "stream",
          "text": [
            "Digite itens: chocolate\n",
            "Digite itens: feijão\n",
            "Digite itens: 0\n"
          ]
        }
      ]
    },
    {
      "cell_type": "code",
      "source": [
        "senha_correta = \"senha123\"\n",
        "tentativas = 5\n",
        "\n",
        "while tentativas > 0:\n",
        "    senha = input(\"Digite a senha: \")\n",
        "    \n",
        "    if senha == senha_correta:\n",
        "        print(\"Senha correta! Acesso concedido.\")\n",
        "        break\n",
        "    else:\n",
        "        tentativas -= 1\n",
        "        print(\"Senha incorreta! Tente novamente. Tentativas restantes:\", tentativas)\n",
        "\n",
        "if tentativas == 0:\n",
        "    print(\"Você excedeu o número máximo de tentativas. Acesso bloqueado.\")"
      ],
      "metadata": {
        "id": "mQ6vRssbcu8g"
      },
      "execution_count": null,
      "outputs": []
    },
    {
      "cell_type": "code",
      "source": [
        "num = input('digite um número')\n",
        "num.isdigit()"
      ],
      "metadata": {
        "id": "1kifSz9Rf0h7"
      },
      "execution_count": null,
      "outputs": []
    },
    {
      "cell_type": "code",
      "source": [
        "import random\n",
        "\n",
        "num = random.randrange(1001)\n",
        "minimo = 0\n",
        "maximo = 1000\n",
        "pitaco = int(input(f'Chute um número entre {minimo} e {maximo}: '))\n",
        "cont = 1\n",
        "\n",
        "while(num != pitaco):\n",
        "  if(pitaco > num):\n",
        "    maximo = pitaco\n",
        "  else:\n",
        "    minimo = pitaco\n",
        "  pitaco = int(input(f'Chute um número entre {minimo} e {maximo}: '))\n",
        "  cont+=1\n",
        "\n",
        "print(f'ACERTOU, {cont} tentativas!') "
      ],
      "metadata": {
        "id": "xHTRhLVNf_Xm"
      },
      "execution_count": null,
      "outputs": []
    },
    {
      "cell_type": "markdown",
      "source": [
        "funções"
      ],
      "metadata": {
        "id": "UB0H4fw9hQe0"
      }
    },
    {
      "cell_type": "code",
      "source": [
        "def media(*notas):\n",
        "  soma = 0\n",
        "  for nota in notas:\n",
        "    soma += nota\n",
        "  print(soma / len(notas))\n",
        "\n"
      ],
      "metadata": {
        "id": "1I0zUifVhVSH"
      },
      "execution_count": 23,
      "outputs": []
    },
    {
      "cell_type": "code",
      "source": [
        "media(8, 5, 3, 7, 2, 10,7)    #chamando a função\n",
        "     "
      ],
      "metadata": {
        "id": "cBfu0wbhlRSR"
      },
      "execution_count": null,
      "outputs": []
    },
    {
      "cell_type": "code",
      "source": [
        "def mediaT(*notas):\n",
        "  soma = 0\n",
        "  for nota in notas:\n",
        "    soma+= nota\n",
        "  media = soma/len(notas)\n",
        "  print('A média é: ', media)   "
      ],
      "metadata": {
        "id": "_UieXchvlWeD"
      },
      "execution_count": 27,
      "outputs": []
    },
    {
      "cell_type": "code",
      "source": [
        "mediaT(3,6,8,9,9,10) "
      ],
      "metadata": {
        "id": "xr1I_dBfmQgb"
      },
      "execution_count": null,
      "outputs": []
    },
    {
      "cell_type": "code",
      "source": [
        "def nacionalidade(coutryn = 'Paraíba'):\n",
        "  print('Eu nasci em, ' + coutryn)"
      ],
      "metadata": {
        "id": "X4Ly2f-XmqIL"
      },
      "execution_count": 29,
      "outputs": []
    },
    {
      "cell_type": "markdown",
      "source": [
        "RETURN"
      ],
      "metadata": {
        "id": "go36e-26nRyl"
      }
    },
    {
      "cell_type": "code",
      "source": [
        "def imc(peso, altura):\n",
        "  return peso/altura**2 \n",
        "     "
      ],
      "metadata": {
        "id": "ndpctaBSnS2V"
      },
      "execution_count": 30,
      "outputs": []
    },
    {
      "cell_type": "code",
      "source": [
        "def situacaoPeso(imc):\n",
        "  if(imc < 18.5):\n",
        "    print('Abaixo do peso normal')\n",
        "  elif(imc < 24.9):\n",
        "    print('Peso normal')\n",
        "  else:\n",
        "    print('Obesidade')\n",
        "     "
      ],
      "metadata": {
        "id": "Lq1K7A1DnkZI"
      },
      "execution_count": 31,
      "outputs": []
    },
    {
      "cell_type": "code",
      "source": [
        "situacaoPeso(imc(56, 1.65))"
      ],
      "metadata": {
        "id": "cu-cpffHn3pe"
      },
      "execution_count": null,
      "outputs": []
    },
    {
      "cell_type": "code",
      "source": [
        "def vezes(a,b):\n",
        "  return a * b"
      ],
      "metadata": {
        "id": "MHZof1_6ot9Q"
      },
      "execution_count": 37,
      "outputs": []
    },
    {
      "cell_type": "code",
      "source": [
        "vezes(45, 9)"
      ],
      "metadata": {
        "id": "hF5tN96ho1__"
      },
      "execution_count": null,
      "outputs": []
    },
    {
      "cell_type": "code",
      "source": [
        "def juros(valor,tempo):\n",
        "  return valor * 0.025 * tempo\n",
        "\n",
        "def simulac(capital,juros):\n",
        "  return juros + capital  "
      ],
      "metadata": {
        "id": "QHuaznAwpIuD"
      },
      "execution_count": 41,
      "outputs": []
    }
  ]
}