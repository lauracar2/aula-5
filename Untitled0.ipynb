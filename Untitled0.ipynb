{
  "nbformat": 4,
  "nbformat_minor": 0,
  "metadata": {
    "colab": {
      "provenance": [],
      "authorship_tag": "ABX9TyOAUOdQiX0496pTSnz47lnx",
      "include_colab_link": true
    },
    "kernelspec": {
      "name": "python3",
      "display_name": "Python 3"
    },
    "language_info": {
      "name": "python"
    }
  },
  "cells": [
    {
      "cell_type": "markdown",
      "metadata": {
        "id": "view-in-github",
        "colab_type": "text"
      },
      "source": [
        "<a href=\"https://colab.research.google.com/github/lauracar2/aula-5/blob/main/Untitled0.ipynb\" target=\"_parent\"><img src=\"https://colab.research.google.com/assets/colab-badge.svg\" alt=\"Open In Colab\"/></a>"
      ]
    },
    {
      "cell_type": "code",
      "source": [
        "alunos = [\"Junior\",\"Luiz\",\"Hellen\",\"Amanda\",\"Fernando\"]\n",
        "alunos"
      ],
      "metadata": {
        "colab": {
          "base_uri": "https://localhost:8080/"
        },
        "id": "8MQ7n79KV_mD",
        "outputId": "a515e87a-6317-4566-d563-599fed32037b"
      },
      "execution_count": 7,
      "outputs": [
        {
          "output_type": "execute_result",
          "data": {
            "text/plain": [
              "['Junior', 'Luiz', 'Hellen', 'Amanda', 'Fernando']"
            ]
          },
          "metadata": {},
          "execution_count": 7
        }
      ]
    },
    {
      "cell_type": "code",
      "source": [
        "if \"Renan\" in alunos:\n",
        "  print(\"tem sim!!!\")\n",
        "else:\n",
        "  print(\"tem não\")"
      ],
      "metadata": {
        "colab": {
          "base_uri": "https://localhost:8080/"
        },
        "id": "5VF1FJuhXK5E",
        "outputId": "d309e67c-350d-4cc4-b1d8-49441d808e9c"
      },
      "execution_count": 5,
      "outputs": [
        {
          "output_type": "stream",
          "name": "stdout",
          "text": [
            "tem não\n"
          ]
        }
      ]
    },
    {
      "cell_type": "code",
      "source": [
        "alunos [4] = \"Júlio\"\n",
        "alunos"
      ],
      "metadata": {
        "colab": {
          "base_uri": "https://localhost:8080/"
        },
        "id": "L87Jq8YxYLpk",
        "outputId": "0dff81a9-a1c5-4296-eeb6-09c4491a3b84"
      },
      "execution_count": 9,
      "outputs": [
        {
          "output_type": "execute_result",
          "data": {
            "text/plain": [
              "['Junior', 'Luiz', 'Hellen', 'Amanda', 'Júlio']"
            ]
          },
          "metadata": {},
          "execution_count": 9
        }
      ]
    }
  ]
}