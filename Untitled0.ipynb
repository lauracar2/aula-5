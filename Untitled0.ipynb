{
  "nbformat": 4,
  "nbformat_minor": 0,
  "metadata": {
    "colab": {
      "provenance": [],
      "authorship_tag": "ABX9TyOCtsTb3OfHlA620rlMuP+t",
      "include_colab_link": true
    },
    "kernelspec": {
      "name": "python3",
      "display_name": "Python 3"
    },
    "language_info": {
      "name": "python"
    }
  },
  "cells": [
    {
      "cell_type": "markdown",
      "metadata": {
        "id": "view-in-github",
        "colab_type": "text"
      },
      "source": [
        "<a href=\"https://colab.research.google.com/github/lauracar2/aula-5/blob/main/Untitled0.ipynb\" target=\"_parent\"><img src=\"https://colab.research.google.com/assets/colab-badge.svg\" alt=\"Open In Colab\"/></a>"
      ]
    },
    {
      "cell_type": "code",
      "execution_count": null,
      "metadata": {
        "id": "YOtZnnp4IuhH"
      },
      "outputs": [],
      "source": [
        "nota1 =  float(input('Digite a primeira nota: '))\n",
        "nota2 =  float(input('Digite a segunda nota: '))\n",
        "nota3 =  float(input('Digite a segunda nota: '))\n",
        "media = (nota1 + nota2 + nota3)/3\n",
        "print(media)"
      ]
    },
    {
      "cell_type": "code",
      "source": [
        "nota1 = float(input('Escolha um número: '))\n",
        "nota2 = float(input('Escolha outro número: '))\n",
        "nota3 = float(input('Digite um número multiplicador: '))\n",
        "resultado = (nota1 + nota2 * nota3 )/3\n",
        "print(resultado) \n"
      ],
      "metadata": {
        "colab": {
          "base_uri": "https://localhost:8080/"
        },
        "id": "iymphNBkLJ5E",
        "outputId": "2ea2f124-eda0-4f25-e18e-49d67d601aa5"
      },
      "execution_count": null,
      "outputs": [
        {
          "output_type": "stream",
          "name": "stdout",
          "text": [
            "Escolha um número: 2\n",
            "Escolha outro número: 5\n",
            "Digite um número multiplicador: 8\n",
            "14.0\n"
          ]
        }
      ]
    },
    {
      "cell_type": "code",
      "source": [
        "S = 20 < 55\n",
        "p = 24 == '25'\n",
        "d = 87 == (6*9)"
      ],
      "metadata": {
        "id": "UkyuqhLgSdFM"
      },
      "execution_count": null,
      "outputs": []
    },
    {
      "cell_type": "code",
      "source": [
        "from binascii import b2a_hqx\n",
        "print(S)\n",
        "print(p)\n",
        "print(d)"
      ],
      "metadata": {
        "colab": {
          "base_uri": "https://localhost:8080/"
        },
        "id": "tj_GcAF1TEpr",
        "outputId": "9a51b7d4-2c17-427b-9cd8-b8dbf6ca65e9"
      },
      "execution_count": null,
      "outputs": [
        {
          "output_type": "stream",
          "name": "stdout",
          "text": [
            "True\n",
            "False\n",
            "False\n"
          ]
        }
      ]
    },
    {
      "cell_type": "code",
      "source": [
        "a = float(input('digite um numero: '))\n",
        "b = float(input('digite o segundo numero: '))\n",
        "resultado = (a + b )/6\n",
        "print(resultado)"
      ],
      "metadata": {
        "colab": {
          "base_uri": "https://localhost:8080/"
        },
        "id": "OnQBLMKwNGFz",
        "outputId": "36b21029-61d3-4a60-b8db-afa67cb47ee0"
      },
      "execution_count": null,
      "outputs": [
        {
          "output_type": "stream",
          "name": "stdout",
          "text": [
            "digite um numero: 9\n",
            "digite o segundo numero: 20\n",
            "4.833333333333333\n"
          ]
        }
      ]
    }
  ]
}