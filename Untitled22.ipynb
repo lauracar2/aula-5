{
  "nbformat": 4,
  "nbformat_minor": 0,
  "metadata": {
    "colab": {
      "provenance": [],
      "authorship_tag": "ABX9TyNMjsbgmVOQZA+CwMeeGF/9",
      "include_colab_link": true
    },
    "kernelspec": {
      "name": "python3",
      "display_name": "Python 3"
    },
    "language_info": {
      "name": "python"
    }
  },
  "cells": [
    {
      "cell_type": "markdown",
      "metadata": {
        "id": "view-in-github",
        "colab_type": "text"
      },
      "source": [
        "<a href=\"https://colab.research.google.com/github/lauracar2/aula-5/blob/main/Untitled22.ipynb\" target=\"_parent\"><img src=\"https://colab.research.google.com/assets/colab-badge.svg\" alt=\"Open In Colab\"/></a>"
      ]
    },
    {
      "cell_type": "code",
      "execution_count": null,
      "metadata": {
        "id": "Fd76j440tc6k"
      },
      "outputs": [],
      "source": [
        "dobro = lambda num: num*2                                          #função lambda#"
      ]
    },
    {
      "cell_type": "code",
      "source": [
        "dobro(234)"
      ],
      "metadata": {
        "id": "RpTA8hXxt0dI"
      },
      "execution_count": null,
      "outputs": []
    },
    {
      "cell_type": "code",
      "source": [
        "def soma(num1,num2):\n",
        "  return num1 + num2"
      ],
      "metadata": {
        "id": "-da2r6Aft_eu"
      },
      "execution_count": null,
      "outputs": []
    },
    {
      "cell_type": "code",
      "source": [
        "soma(34,67)"
      ],
      "metadata": {
        "id": "CFTQVBoZuVzO"
      },
      "execution_count": null,
      "outputs": []
    },
    {
      "cell_type": "code",
      "source": [
        "soma = lambda nu1,nu2: nu1 + nu2"
      ],
      "metadata": {
        "id": "Cn-xzItPucaQ"
      },
      "execution_count": null,
      "outputs": []
    },
    {
      "cell_type": "code",
      "source": [
        "soma(234,678)"
      ],
      "metadata": {
        "id": "oJKz-ayBuq6X"
      },
      "execution_count": null,
      "outputs": []
    },
    {
      "cell_type": "code",
      "source": [
        "def media(n1,n2,n3):\n",
        "  return (n1 + n2 + n3) /3"
      ],
      "metadata": {
        "id": "esMdpBVVuyX1"
      },
      "execution_count": null,
      "outputs": []
    },
    {
      "cell_type": "code",
      "source": [
        "media(8,5,9)"
      ],
      "metadata": {
        "id": "3A_InYBivGIO"
      },
      "execution_count": null,
      "outputs": []
    },
    {
      "cell_type": "code",
      "source": [
        "media2 = lambda n1, n2, n3: (n1+n2+n3)/3"
      ],
      "metadata": {
        "id": "GQXLl6mmvLFt"
      },
      "execution_count": null,
      "outputs": []
    },
    {
      "cell_type": "code",
      "source": [
        "media2(4,8,8)"
      ],
      "metadata": {
        "id": "6kv0A60_vXTh"
      },
      "execution_count": null,
      "outputs": []
    },
    {
      "cell_type": "code",
      "source": [
        "def imc(peso,altura):\n",
        "  return peso / altura **2"
      ],
      "metadata": {
        "id": "ZiL9PMJev5rw"
      },
      "execution_count": null,
      "outputs": []
    },
    {
      "cell_type": "code",
      "source": [
        "imc(56,168)"
      ],
      "metadata": {
        "id": "sbtJNE4Ov6Fd"
      },
      "execution_count": null,
      "outputs": []
    },
    {
      "cell_type": "code",
      "source": [
        "imc = lambda p,a: p/a**2"
      ],
      "metadata": {
        "id": "PAGCmEMJwZjO"
      },
      "execution_count": null,
      "outputs": []
    },
    {
      "cell_type": "code",
      "source": [
        "print(imc(56,168))"
      ],
      "metadata": {
        "id": "58sV8aDywnlX"
      },
      "execution_count": null,
      "outputs": []
    },
    {
      "cell_type": "code",
      "source": [
        "notas = [8, 9, 4, 5.5, 3, 7, 9.5, 7.3]\n",
        "conceitos=[2, 4, 7, 10, 8]"
      ],
      "metadata": {
        "id": "v4YpH-SKwuxj"
      },
      "execution_count": 26,
      "outputs": []
    },
    {
      "cell_type": "code",
      "source": [
        "def aprovados(nota):\n",
        "  return nota >= 7\n",
        "\n",
        "listaAprovados = list(filter(aprovados,conceitos))\n",
        "\n",
        "\n",
        "listaAprovados"
      ],
      "metadata": {
        "id": "Iys8Wg22xZfR"
      },
      "execution_count": null,
      "outputs": []
    },
    {
      "cell_type": "code",
      "source": [
        "listaAprovados2 = list(filter(lambda nota: nota >= 7,notas))\n",
        "listaAprovados2"
      ],
      "metadata": {
        "id": "jZ20eUmnx8HL"
      },
      "execution_count": null,
      "outputs": []
    },
    {
      "cell_type": "code",
      "source": [
        "nums = [4, 3, 2, 14, 3, 2, 3, 2, 1, 3, 4, 4]\n",
        "numeros = [2, 3, 4, 6, 7, 4, 32, 2]\n",
        "\n",
        "numerosPares = list(filter(lambda num : num%2 == 0, numeros))\n",
        "sum(numerosPares)"
      ],
      "metadata": {
        "colab": {
          "base_uri": "https://localhost:8080/"
        },
        "id": "FUhRiDD1yeDQ",
        "outputId": "4895e4e2-69e7-41c5-9644-a40a5ee97fd4"
      },
      "execution_count": 30,
      "outputs": [
        {
          "output_type": "execute_result",
          "data": {
            "text/plain": [
              "50"
            ]
          },
          "metadata": {},
          "execution_count": 30
        }
      ]
    }
  ]
}