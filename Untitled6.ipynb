{
  "nbformat": 4,
  "nbformat_minor": 0,
  "metadata": {
    "colab": {
      "provenance": [],
      "authorship_tag": "ABX9TyOI3tGFYP4qGPDjywJd7mAu",
      "include_colab_link": true
    },
    "kernelspec": {
      "name": "python3",
      "display_name": "Python 3"
    },
    "language_info": {
      "name": "python"
    }
  },
  "cells": [
    {
      "cell_type": "markdown",
      "metadata": {
        "id": "view-in-github",
        "colab_type": "text"
      },
      "source": [
        "<a href=\"https://colab.research.google.com/github/lauracar2/aula-5/blob/main/Untitled6.ipynb\" target=\"_parent\"><img src=\"https://colab.research.google.com/assets/colab-badge.svg\" alt=\"Open In Colab\"/></a>"
      ]
    },
    {
      "cell_type": "code",
      "execution_count": null,
      "metadata": {
        "id": "ILo1p7GVFgRE"
      },
      "outputs": [],
      "source": [
        "# Declaração de função #\n",
        "def my_first_function():\n",
        "  print('minha primeira função ')"
      ]
    },
    {
      "cell_type": "code",
      "source": [
        "def pronomeTratamento(pronome):\n",
        "  print(pronome,  'laura')"
      ],
      "metadata": {
        "id": "ZrNiuWtuIiwf"
      },
      "execution_count": null,
      "outputs": []
    },
    {
      "cell_type": "code",
      "source": [
        "pronomeTratamento('Doutor' )\n",
        "pronomeTratamento(' chocolate' )\n",
        "pronomeTratamento(' crente' )"
      ],
      "metadata": {
        "colab": {
          "base_uri": "https://localhost:8080/"
        },
        "id": "QtuoUP1QI5Ev",
        "outputId": "8ceab882-8b1b-4dba-c6fb-041882f2f34a"
      },
      "execution_count": null,
      "outputs": [
        {
          "output_type": "stream",
          "name": "stdout",
          "text": [
            "Doutor laura\n",
            " chocolate laura\n",
            " crente laura\n"
          ]
        }
      ]
    },
    {
      "cell_type": "code",
      "source": [
        "def tratamNome(pronome, nome):\n",
        "  print(pronome, nome)"
      ],
      "metadata": {
        "id": "FBDmH3bUJwSY"
      },
      "execution_count": null,
      "outputs": []
    },
    {
      "cell_type": "code",
      "source": [
        "tratamNome('cachorro', 'sapato')"
      ],
      "metadata": {
        "colab": {
          "base_uri": "https://localhost:8080/"
        },
        "id": "ytWTwR9FKUhW",
        "outputId": "8981bd6c-05bd-42df-aa48-eab11b3fb26b"
      },
      "execution_count": null,
      "outputs": [
        {
          "output_type": "stream",
          "name": "stdout",
          "text": [
            "cachorro sapato\n"
          ]
        }
      ]
    },
    {
      "cell_type": "code",
      "source": [
        "# função que recebe altura e peso e retorna o IMC:\n",
        "def calculeIMC(peso, altura):\n",
        "  return peso / altura ** 2\n",
        "  \n"
      ],
      "metadata": {
        "id": "BI-4DcKbOEuw"
      },
      "execution_count": null,
      "outputs": []
    },
    {
      "cell_type": "code",
      "source": [
        "calculeIMC(1.67, 65) < 345\n"
      ],
      "metadata": {
        "colab": {
          "base_uri": "https://localhost:8080/"
        },
        "id": "L9G89cuYPDDw",
        "outputId": "a5a54b7f-310e-42e1-9d76-57e0d969e601"
      },
      "execution_count": null,
      "outputs": [
        {
          "output_type": "execute_result",
          "data": {
            "text/plain": [
              "True"
            ]
          },
          "metadata": {},
          "execution_count": 64
        }
      ]
    },
    {
      "cell_type": "code",
      "source": [
        "def nomeData(nome, anos):\n",
        "  idade = 2023 - anos\n",
        "  print(nome, idade,'anos')"
      ],
      "metadata": {
        "id": "Wrzu6GM-QhS1"
      },
      "execution_count": null,
      "outputs": []
    },
    {
      "cell_type": "code",
      "source": [
        "nomeData('Laura', 2004)"
      ],
      "metadata": {
        "colab": {
          "base_uri": "https://localhost:8080/"
        },
        "id": "NNvVBQBeRyu0",
        "outputId": "4fc2fc18-6d25-4e3e-dd99-7b99c5e7a844"
      },
      "execution_count": null,
      "outputs": [
        {
          "output_type": "stream",
          "name": "stdout",
          "text": [
            "Laura 19 anos\n"
          ]
        }
      ]
    },
    {
      "cell_type": "code",
      "source": [
        "def calcuJuros(emprestimo, tempo):\n",
        "  return emprestimo * 0.025 * tempo\n",
        "  \n"
      ],
      "metadata": {
        "id": "191xXdObZmRg"
      },
      "execution_count": 84,
      "outputs": []
    },
    {
      "cell_type": "code",
      "source": [
        "calcuJuros(2459, 5)\n"
      ],
      "metadata": {
        "colab": {
          "base_uri": "https://localhost:8080/"
        },
        "id": "gySR_Fk0a-Ml",
        "outputId": "8a21b32b-a4a6-4751-a19f-be79ccd80366"
      },
      "execution_count": 93,
      "outputs": [
        {
          "output_type": "execute_result",
          "data": {
            "text/plain": [
              "307.375"
            ]
          },
          "metadata": {},
          "execution_count": 93
        }
      ]
    },
    {
      "cell_type": "code",
      "source": [
        "emprestimo = float(input('Digite o valor do empréstimo: '))\n",
        "tempo = float(input('em quanto tempo? '))\n",
        "\n",
        "calcuJuros(emprestimo, tempo)"
      ],
      "metadata": {
        "colab": {
          "base_uri": "https://localhost:8080/"
        },
        "id": "Y94tNPt3fJSK",
        "outputId": "4563265a-a02f-49a5-876c-1dcb6bc3b377"
      },
      "execution_count": 96,
      "outputs": [
        {
          "name": "stdout",
          "output_type": "stream",
          "text": [
            "Digite o valor do empréstimo: 2465\n",
            "em quanto tempo? 6\n"
          ]
        },
        {
          "output_type": "execute_result",
          "data": {
            "text/plain": [
              "369.75"
            ]
          },
          "metadata": {},
          "execution_count": 96
        }
      ]
    }
  ]
}