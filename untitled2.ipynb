{
  "nbformat": 4,
  "nbformat_minor": 0,
  "metadata": {
    "colab": {
      "provenance": [],
      "authorship_tag": "ABX9TyN94zkFzKc9gFCa7TtEPfQC",
      "include_colab_link": true
    },
    "kernelspec": {
      "name": "python3",
      "display_name": "Python 3"
    },
    "language_info": {
      "name": "python"
    }
  },
  "cells": [
    {
      "cell_type": "markdown",
      "metadata": {
        "id": "view-in-github",
        "colab_type": "text"
      },
      "source": [
        "<a href=\"https://colab.research.google.com/github/lauracar2/aula-5/blob/main/untitled2.ipynb\" target=\"_parent\"><img src=\"https://colab.research.google.com/assets/colab-badge.svg\" alt=\"Open In Colab\"/></a>"
      ]
    },
    {
      "cell_type": "code",
      "execution_count": null,
      "metadata": {
        "colab": {
          "base_uri": "https://localhost:8080/"
        },
        "id": "N4_5mdgc7jC-",
        "outputId": "f9b85691-a53b-4076-e931-129ce75c26a7"
      },
      "outputs": [
        {
          "output_type": "stream",
          "name": "stdout",
          "text": [
            "Digite a sua idade:20\n",
            "juvenil\n"
          ]
        }
      ],
      "source": [
        "idade = int(input(\"Digite a sua idade:\"))\n",
        "if(idade < 14):\n",
        "  print(\"infantil\")\n",
        "elif(idade > 18):\n",
        "    print(\"juvenil\")\n",
        "else:\n",
        "      print(\"senior\")"
      ]
    },
    {
      "cell_type": "code",
      "source": [
        "musica = [\"seja forte\",\"rei da glória\",\"DEUS DO SECRETO\",\"OI JESUS\"]\n",
        "musica"
      ],
      "metadata": {
        "colab": {
          "base_uri": "https://localhost:8080/"
        },
        "id": "ppjDyNI_-TIf",
        "outputId": "1f88b5ee-8720-41e6-c914-85425d001f04"
      },
      "execution_count": null,
      "outputs": [
        {
          "output_type": "execute_result",
          "data": {
            "text/plain": [
              "['seja forte', 'rei da glória', 'DEUS DO SECRETO', 'OI JESUS']"
            ]
          },
          "metadata": {},
          "execution_count": 6
        }
      ]
    },
    {
      "cell_type": "code",
      "source": [
        "len(musica)"
      ],
      "metadata": {
        "colab": {
          "base_uri": "https://localhost:8080/"
        },
        "id": "3VymSrGo8saS",
        "outputId": "f6e8bf8c-06be-4c61-9123-02bbf6d29d08"
      },
      "execution_count": null,
      "outputs": [
        {
          "output_type": "execute_result",
          "data": {
            "text/plain": [
              "4"
            ]
          },
          "metadata": {},
          "execution_count": 13
        }
      ]
    },
    {
      "cell_type": "code",
      "source": [
        "num = [1,2,3,4,5,6,7,8,9,10]\n",
        "num "
      ],
      "metadata": {
        "colab": {
          "base_uri": "https://localhost:8080/"
        },
        "id": "5PqEL88qBupJ",
        "outputId": "db53de59-e936-45e0-e10d-2b5f1728fbfb"
      },
      "execution_count": null,
      "outputs": [
        {
          "output_type": "execute_result",
          "data": {
            "text/plain": [
              "[1, 2, 3, 4, 5, 6, 7, 8, 9, 10]"
            ]
          },
          "metadata": {},
          "execution_count": 16
        }
      ]
    },
    {
      "cell_type": "code",
      "source": [
        "len(num)"
      ],
      "metadata": {
        "colab": {
          "base_uri": "https://localhost:8080/"
        },
        "id": "IKH7NQa4B9I4",
        "outputId": "ec63bfbf-754e-4e29-f216-b874fe0df559"
      },
      "execution_count": null,
      "outputs": [
        {
          "output_type": "execute_result",
          "data": {
            "text/plain": [
              "10"
            ]
          },
          "metadata": {},
          "execution_count": 17
        }
      ]
    },
    {
      "cell_type": "code",
      "source": [
        "print(num[0])\n",
        "print(num[1])\n",
        "print(num[2])\n",
        "print(num[3])\n",
        "print(num[4])\n",
        "print(num[5])\n",
        "print(num[6])\n",
        "print(num[7])\n",
        "print(num[8])\n",
        "print(num[9])"
      ],
      "metadata": {
        "colab": {
          "base_uri": "https://localhost:8080/"
        },
        "id": "I2i83zy2CDqo",
        "outputId": "3f3d88da-6b7c-4139-b015-35c3c0cdf08e"
      },
      "execution_count": null,
      "outputs": [
        {
          "output_type": "stream",
          "name": "stdout",
          "text": [
            "1\n",
            "2\n",
            "3\n",
            "4\n",
            "5\n",
            "6\n",
            "7\n",
            "8\n",
            "9\n",
            "10\n"
          ]
        }
      ]
    },
    {
      "cell_type": "code",
      "source": [
        "alunos = [\"hellen\",\"amanda\",\"fernamdo\",\"Laura\"]\n",
        "alunos"
      ],
      "metadata": {
        "colab": {
          "base_uri": "https://localhost:8080/"
        },
        "id": "WyiITRQVDEA8",
        "outputId": "bc6f1b79-9a1e-480d-f8ed-e6ee9d30eecf"
      },
      "execution_count": 9,
      "outputs": [
        {
          "output_type": "execute_result",
          "data": {
            "text/plain": [
              "['hellen', 'amanda', 'fernamdo', 'Laura']"
            ]
          },
          "metadata": {},
          "execution_count": 9
        }
      ]
    },
    {
      "cell_type": "code",
      "source": [
        "len(alunos)"
      ],
      "metadata": {
        "colab": {
          "base_uri": "https://localhost:8080/"
        },
        "id": "rpGJ_hSWDoNK",
        "outputId": "26562628-52bb-4a50-f989-3e70328de022"
      },
      "execution_count": null,
      "outputs": [
        {
          "output_type": "execute_result",
          "data": {
            "text/plain": [
              "4"
            ]
          },
          "metadata": {},
          "execution_count": 21
        }
      ]
    },
    {
      "cell_type": "code",
      "source": [
        "lista_de_compras = [\"arroz\",\"feijão\",\"carne\",\"macarrão\",\"azeite\",\"chocolate\",\"detergente\"]\n",
        "lista_de_compras[5]"
      ],
      "metadata": {
        "colab": {
          "base_uri": "https://localhost:8080/",
          "height": 35
        },
        "id": "7Pv8NIwbDvug",
        "outputId": "6cad1b13-e754-4a97-ef02-8a19e0b90fa7"
      },
      "execution_count": null,
      "outputs": [
        {
          "output_type": "execute_result",
          "data": {
            "text/plain": [
              "'chocolate'"
            ],
            "application/vnd.google.colaboratory.intrinsic+json": {
              "type": "string"
            }
          },
          "metadata": {},
          "execution_count": 40
        }
      ]
    },
    {
      "cell_type": "code",
      "source": [
        "lista_de_compras[5] = \"pimenta\""
      ],
      "metadata": {
        "id": "R0Pb8m8XE_Tc"
      },
      "execution_count": null,
      "outputs": []
    },
    {
      "cell_type": "code",
      "source": [
        "len(lista_de_compras)"
      ],
      "metadata": {
        "colab": {
          "base_uri": "https://localhost:8080/"
        },
        "id": "fmxbnJpiFiHE",
        "outputId": "8bf4a65c-a390-47d4-a682-4574d453d4ee"
      },
      "execution_count": null,
      "outputs": [
        {
          "output_type": "execute_result",
          "data": {
            "text/plain": [
              "7"
            ]
          },
          "metadata": {},
          "execution_count": 43
        }
      ]
    },
    {
      "cell_type": "code",
      "source": [
        "alunos.append(\"juninho pereira\")\n",
        "alunos"
      ],
      "metadata": {
        "colab": {
          "base_uri": "https://localhost:8080/"
        },
        "id": "MYUAcpuZFyOk",
        "outputId": "2d53eaff-e13e-451c-de61-f32676e88aef"
      },
      "execution_count": null,
      "outputs": [
        {
          "output_type": "execute_result",
          "data": {
            "text/plain": [
              "['hellen', 'amanda', 'fernamdo', 'laura', 'juninho pereira', 'juninho pereira']"
            ]
          },
          "metadata": {},
          "execution_count": 48
        }
      ]
    },
    {
      "cell_type": "code",
      "source": [
        "alunos.append(input(\"Digite o nome\"))"
      ],
      "metadata": {
        "colab": {
          "base_uri": "https://localhost:8080/"
        },
        "id": "hcw0qLhWGEqe",
        "outputId": "650d77bf-67dc-47af-a6a6-d8c79dfa1984"
      },
      "execution_count": null,
      "outputs": [
        {
          "name": "stdout",
          "output_type": "stream",
          "text": [
            "Digite o nomejorginho caldeirão\n"
          ]
        }
      ]
    },
    {
      "cell_type": "code",
      "source": [
        "if \"Laura\" in alunos:\n",
        "  print('tem laura sim')\n",
        "else:\n",
        "  print('tem laura não!!!!!')"
      ],
      "metadata": {
        "id": "Se8LbN4BM-7v",
        "outputId": "8c298d15-af22-4a36-f1ff-63d49e846d4d",
        "colab": {
          "base_uri": "https://localhost:8080/"
        }
      },
      "execution_count": 10,
      "outputs": [
        {
          "output_type": "stream",
          "name": "stdout",
          "text": [
            "tem laura sim\n"
          ]
        }
      ]
    }
  ]
}