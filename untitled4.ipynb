{
  "nbformat": 4,
  "nbformat_minor": 0,
  "metadata": {
    "colab": {
      "provenance": [],
      "authorship_tag": "ABX9TyNWCs19YHJ+LW2vjmg4sVKT",
      "include_colab_link": true
    },
    "kernelspec": {
      "name": "python3",
      "display_name": "Python 3"
    },
    "language_info": {
      "name": "python"
    }
  },
  "cells": [
    {
      "cell_type": "markdown",
      "metadata": {
        "id": "view-in-github",
        "colab_type": "text"
      },
      "source": [
        "<a href=\"https://colab.research.google.com/github/lauracar2/aula-5/blob/main/untitled4.ipynb\" target=\"_parent\"><img src=\"https://colab.research.google.com/assets/colab-badge.svg\" alt=\"Open In Colab\"/></a>"
      ]
    },
    {
      "cell_type": "code",
      "source": [
        "nome = int(input('Digite o número maior que 1: '))\n",
        "cont = 0\n",
        "listaNumerica = []\n",
        "while(cont <= num):\n",
        "   listaNumerica.append(cont)\n",
        "   cont +=1\n",
        "print(sum(listaNumerica))   "
      ],
      "metadata": {
        "colab": {
          "base_uri": "https://localhost:8080/"
        },
        "id": "cEbWum_TFvDu",
        "outputId": "d5b4fd4b-94cc-4547-f6de-b12ae8b0ff96"
      },
      "execution_count": null,
      "outputs": [
        {
          "output_type": "stream",
          "name": "stdout",
          "text": [
            "Digite o número maior que 1: 10\n",
            "210\n"
          ]
        }
      ]
    },
    {
      "cell_type": "code",
      "source": [],
      "metadata": {
        "id": "6CgKMNSmeCWK"
      },
      "execution_count": null,
      "outputs": []
    },
    {
      "cell_type": "code",
      "source": [
        "num = int(input('Digite um número maior que 1: '))\n",
        "cont = 0\n",
        "soma = 0\n",
        "while(cont <= num):\n",
        "  soma += cont\n",
        "  cont+=1\n",
        "print(soma)  "
      ],
      "metadata": {
        "colab": {
          "base_uri": "https://localhost:8080/"
        },
        "id": "P0cxEnaTM33-",
        "outputId": "4d525f1f-a60b-4c9f-efd7-e48f0904a30c"
      },
      "execution_count": null,
      "outputs": [
        {
          "output_type": "stream",
          "name": "stdout",
          "text": [
            "Digite um número maior que 1: 10\n",
            "55\n"
          ]
        }
      ]
    },
    {
      "cell_type": "code",
      "source": [
        "num =  int(input('Digite a sua senha: '))\n",
        "cont= 0\n",
        "senha = 1234\n",
        "while(cont < 5 ):\n",
        " if(num == senha):\n",
        "   print('seja bem-vindo')\n",
        " else:\n",
        "   print('tente novamente')  \n"
      ],
      "metadata": {
        "id": "NASxUGjZOXas"
      },
      "execution_count": null,
      "outputs": []
    },
    {
      "cell_type": "code",
      "source": [
        "num = input('Digite um número')\n",
        "num.isdigit()"
      ],
      "metadata": {
        "colab": {
          "base_uri": "https://localhost:8080/"
        },
        "id": "dS-U0pjqYyar",
        "outputId": "011505aa-4ea0-4dc8-ad4c-53b50e9c711b"
      },
      "execution_count": null,
      "outputs": [
        {
          "name": "stdout",
          "output_type": "stream",
          "text": [
            "Digite um número1234\n"
          ]
        },
        {
          "output_type": "execute_result",
          "data": {
            "text/plain": [
              "True"
            ]
          },
          "metadata": {},
          "execution_count": 55
        }
      ]
    },
    {
      "cell_type": "code",
      "source": [
        "nome = input('Digite o nomw! ')\n",
        "if(nome.isdigit()):\n",
        "   print('entrada incorreta! ')\n",
        "else:\n",
        "  print(f'o nome {nome} foi inserido com sucesso ')   \n",
        "  "
      ],
      "metadata": {
        "colab": {
          "base_uri": "https://localhost:8080/"
        },
        "id": "fdFIMpPFZx5S",
        "outputId": "43b9adf8-e371-4231-df4b-aac14126a9f4"
      },
      "execution_count": null,
      "outputs": [
        {
          "output_type": "stream",
          "name": "stdout",
          "text": [
            "Digite o nomw! oi\n",
            "o nome oi foi inserido com sucesso \n"
          ]
        }
      ]
    }
  ]
}