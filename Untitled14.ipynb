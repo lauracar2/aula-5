{
  "nbformat": 4,
  "nbformat_minor": 0,
  "metadata": {
    "colab": {
      "provenance": [],
      "authorship_tag": "ABX9TyNPutcPcAgLLWo3VwuJRooi",
      "include_colab_link": true
    },
    "kernelspec": {
      "name": "python3",
      "display_name": "Python 3"
    },
    "language_info": {
      "name": "python"
    }
  },
  "cells": [
    {
      "cell_type": "markdown",
      "metadata": {
        "id": "view-in-github",
        "colab_type": "text"
      },
      "source": [
        "<a href=\"https://colab.research.google.com/github/lauracar2/aula-5/blob/main/Untitled14.ipynb\" target=\"_parent\"><img src=\"https://colab.research.google.com/assets/colab-badge.svg\" alt=\"Open In Colab\"/></a>"
      ]
    },
    {
      "cell_type": "code",
      "execution_count": 1,
      "metadata": {
        "id": "gDTM_OOabJsi"
      },
      "outputs": [],
      "source": [
        "#criando listas\n",
        "lista_vazia = []\n",
        "\n",
        "#3lista com elementos\n",
        "lista_com_coisas = [2,3,4,5,'juremas','laura']"
      ]
    },
    {
      "cell_type": "code",
      "source": [
        "nomes = ['jesus','moises','isac','jacó']\n",
        "nomes.append('maria')\n",
        "\n",
        "#vários valores\n",
        "outrosNomes = ['ana','josé','isabel']\n",
        "nomes.extend(outrosNomes)\n",
        "\n"
      ],
      "metadata": {
        "id": "x6x-v983bzXp"
      },
      "execution_count": 4,
      "outputs": []
    },
    {
      "cell_type": "code",
      "source": [
        "numeros = [1,2,3,4,5]\n",
        "numeros"
      ],
      "metadata": {
        "colab": {
          "base_uri": "https://localhost:8080/"
        },
        "id": "688Pz24GdQb7",
        "outputId": "50555d73-854f-4d7e-83b9-44e5ea1c08f5"
      },
      "execution_count": 6,
      "outputs": [
        {
          "output_type": "execute_result",
          "data": {
            "text/plain": [
              "[1, 2, 3, 4, 5]"
            ]
          },
          "metadata": {},
          "execution_count": 6
        }
      ]
    },
    {
      "cell_type": "code",
      "source": [
        "numeros.remove(numeros[3])\n",
        "numeros"
      ],
      "metadata": {
        "colab": {
          "base_uri": "https://localhost:8080/"
        },
        "id": "uGOv2Y4SddLS",
        "outputId": "1fce7813-38da-490c-920d-5e864245f4f1"
      },
      "execution_count": 8,
      "outputs": [
        {
          "output_type": "execute_result",
          "data": {
            "text/plain": [
              "[1, 2, 3]"
            ]
          },
          "metadata": {},
          "execution_count": 8
        }
      ]
    },
    {
      "cell_type": "code",
      "source": [
        "numeros.pop()\n",
        "numeros"
      ],
      "metadata": {
        "colab": {
          "base_uri": "https://localhost:8080/"
        },
        "id": "phG7huTMdpmi",
        "outputId": "1730b372-3bdc-4b86-f40a-968935666cf8"
      },
      "execution_count": 10,
      "outputs": [
        {
          "output_type": "execute_result",
          "data": {
            "text/plain": [
              "[1, 2]"
            ]
          },
          "metadata": {},
          "execution_count": 10
        }
      ]
    },
    {
      "cell_type": "code",
      "source": [
        "listaNum = [6,5,2,1,7]\n",
        "def dobro(lista):\n",
        "  dobroLista = []\n",
        "  for n in lista:\n",
        "    dobroLista.append(n*2)\n",
        "  return dobroLista  \n",
        "\n",
        "dobro(listaNum)  "
      ],
      "metadata": {
        "colab": {
          "base_uri": "https://localhost:8080/"
        },
        "id": "RT8rt50AevJh",
        "outputId": "57d05798-7135-4cae-d253-82c327f37009"
      },
      "execution_count": 11,
      "outputs": [
        {
          "output_type": "execute_result",
          "data": {
            "text/plain": [
              "[12, 10, 4, 2, 14]"
            ]
          },
          "metadata": {},
          "execution_count": 11
        }
      ]
    },
    {
      "cell_type": "code",
      "source": [
        "#map precisa de uma função iteravel"
      ],
      "metadata": {
        "id": "AzZV99v6mr1h"
      },
      "execution_count": null,
      "outputs": []
    },
    {
      "cell_type": "code",
      "source": [
        "listVar = [1223,3,45,67]"
      ],
      "metadata": {
        "id": "h6Y2fxein7Ia"
      },
      "execution_count": 16,
      "outputs": []
    },
    {
      "cell_type": "code",
      "source": [
        "newNum = list(map(lambda a: a**2, listVar))\n",
        "newNum"
      ],
      "metadata": {
        "colab": {
          "base_uri": "https://localhost:8080/"
        },
        "id": "23ueI3o7oOSp",
        "outputId": "d993fa32-eaeb-4772-9097-8d54467dd326"
      },
      "execution_count": 17,
      "outputs": [
        {
          "output_type": "execute_result",
          "data": {
            "text/plain": [
              "[1495729, 9, 2025, 4489]"
            ]
          },
          "metadata": {},
          "execution_count": 17
        }
      ]
    },
    {
      "cell_type": "code",
      "source": [
        "w = ['nanana','havana','cachorro', 'quente','raquel dos teclados']"
      ],
      "metadata": {
        "id": "goI1whDVqRX6"
      },
      "execution_count": 34,
      "outputs": []
    },
    {
      "cell_type": "code",
      "source": [
        "listW = list(map(lambda x:  len(x), w )) \n",
        "listW"
      ],
      "metadata": {
        "colab": {
          "base_uri": "https://localhost:8080/"
        },
        "id": "gsv6-Lz_q-h5",
        "outputId": "50a1a927-3749-47e5-fe10-5a8802aa811c"
      },
      "execution_count": 35,
      "outputs": [
        {
          "output_type": "execute_result",
          "data": {
            "text/plain": [
              "[6, 6, 8, 6, 19]"
            ]
          },
          "metadata": {},
          "execution_count": 35
        }
      ]
    },
    {
      "cell_type": "code",
      "source": [
        "precos = [2.49,34.50,4.00,10.65,8.00,0.50]"
      ],
      "metadata": {
        "id": "riL3eV0ctSXs"
      },
      "execution_count": 39,
      "outputs": []
    },
    {
      "cell_type": "code",
      "source": [
        "listpreco = list(map(lambda b: b++2, precos))\n",
        "listpreco"
      ],
      "metadata": {
        "colab": {
          "base_uri": "https://localhost:8080/"
        },
        "id": "Pf8pIDiFtun6",
        "outputId": "accb4ce8-915e-454e-bf09-964325843dee"
      },
      "execution_count": 40,
      "outputs": [
        {
          "output_type": "execute_result",
          "data": {
            "text/plain": [
              "[4.49, 36.5, 6.0, 12.65, 10.0, 2.5]"
            ]
          },
          "metadata": {},
          "execution_count": 40
        }
      ]
    },
    {
      "cell_type": "code",
      "source": [
        "notas = [ 5, 7.9, 6, 6.5, 8.9, 10, 9.6, 9.2, 9]"
      ],
      "metadata": {
        "id": "g1n6mbxEva3C"
      },
      "execution_count": 41,
      "outputs": []
    },
    {
      "cell_type": "code",
      "source": [
        "aprovados = list(filter(lambda x : x>=7, notas))\n",
        "aprovados"
      ],
      "metadata": {
        "colab": {
          "base_uri": "https://localhost:8080/"
        },
        "id": "9De9DILcvzv8",
        "outputId": "305c10a5-f76a-4c04-9e18-8d54891332ff"
      },
      "execution_count": 42,
      "outputs": [
        {
          "output_type": "execute_result",
          "data": {
            "text/plain": [
              "[7.9, 8.9, 10, 9.6, 9.2, 9]"
            ]
          },
          "metadata": {},
          "execution_count": 42
        }
      ]
    }
  ]
}