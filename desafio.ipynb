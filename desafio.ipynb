{
  "nbformat": 4,
  "nbformat_minor": 0,
  "metadata": {
    "colab": {
      "provenance": [],
      "authorship_tag": "ABX9TyNUo339rv+gJcuus3KBZQAW",
      "include_colab_link": true
    },
    "kernelspec": {
      "name": "python3",
      "display_name": "Python 3"
    },
    "language_info": {
      "name": "python"
    }
  },
  "cells": [
    {
      "cell_type": "markdown",
      "metadata": {
        "id": "view-in-github",
        "colab_type": "text"
      },
      "source": [
        "<a href=\"https://colab.research.google.com/github/lauracar2/aula-5/blob/main/desafio.ipynb\" target=\"_parent\"><img src=\"https://colab.research.google.com/assets/colab-badge.svg\" alt=\"Open In Colab\"/></a>"
      ]
    },
    {
      "cell_type": "code",
      "source": [
        "tarefas = []"
      ],
      "metadata": {
        "id": "YVu13LTKmHy0"
      },
      "execution_count": null,
      "outputs": []
    },
    {
      "cell_type": "code",
      "source": [
        "def adicionar_tarefa():\n",
        "    nome = input(\"Digite o nome da tarefa: \")\n",
        "    id = len(tarefas)\n",
        "    tarefa = {\"id\": id, \"tarefa\": nome, \"status\": \"pendente\"}\n",
        "    tarefas.append(tarefa)\n",
        "    print(\"Tarefa adicionada com sucesso!\")"
      ],
      "metadata": {
        "id": "ITos9p-dmCmA"
      },
      "execution_count": null,
      "outputs": []
    },
    {
      "cell_type": "code",
      "source": [
        "prox_id = 0\n",
        "\n",
        "def adicionar_tarefa():\n",
        "    global prox_id\n",
        "    nome = input(\"Digite o nome da tarefa: \")\n",
        "    tarefa = {\"id\": prox_id, \"tarefa\": nome, \"status\": \"pendente\"}\n",
        "    tarefas.append(tarefa)\n",
        "    prox_id += 1\n",
        "    print(\"Tarefa adicionada com sucesso!\")"
      ],
      "metadata": {
        "id": "92gx7YNCmGR_"
      },
      "execution_count": null,
      "outputs": []
    },
    {
      "cell_type": "code",
      "source": [
        "tarefas = []\n",
        "prox_id = 0\n",
        "\n",
        "def adicionar_tarefa():\n",
        "    global prox_id\n",
        "    nome = input(\"Digite o nome da tarefa: \")\n",
        "    tarefa = {\"id\": prox_id, \"tarefa\": nome, \"status\": \"pendente\"}\n",
        "    tarefas.append(tarefa)\n",
        "    prox_id += 1\n",
        "    print(\"Tarefa adicionada com sucesso!\")\n",
        "\n",
        "\n",
        "adicionar_tarefa()\n",
        "print(tarefas)"
      ],
      "metadata": {
        "id": "Xlj9YmPLmuBT"
      },
      "execution_count": null,
      "outputs": []
    },
    {
      "cell_type": "code",
      "source": [
        "tarefas = []\n",
        "prox_id = 0\n",
        "\n",
        "def adicionar_tarefa(nome):\n",
        "    global prox_id\n",
        "    tarefa = {\"id\": prox_id, \"tarefa\": nome, \"status\": \"pendente\"}\n",
        "    tarefas.append(tarefa)\n",
        "    prox_id += 1\n",
        "    print(\"Tarefa adicionada com sucesso!\")\n",
        "\n",
        "\n",
        "tarefas_cadastro = [\"Estudar python\", \"Programar site\", \"Comprar mouse\", \"Correr 4km\", \"Pegar documentos\", \"Responder email\"]\n",
        "for tarefa in tarefas_cadastro:\n",
        "    adicionar_tarefa(tarefa)\n",
        "\n",
        "\n",
        "print(tarefas)"
      ],
      "metadata": {
        "id": "1AEH2YuZnFgS"
      },
      "execution_count": null,
      "outputs": []
    },
    {
      "cell_type": "code",
      "source": [
        "def listar_tarefas():\n",
        "    if len(tarefas) == 0:\n",
        "        print(\"Não há tarefas cadastradas.\")\n",
        "    else:\n",
        "        for tarefa in tarefas:\n",
        "            print(f\"Tarefa: {tarefa['tarefa']}, Status: {tarefa['status']}\")\n",
        "\n",
        "\n",
        "listar_tarefas()"
      ],
      "metadata": {
        "id": "-oQyq0NSncnV"
      },
      "execution_count": null,
      "outputs": []
    },
    {
      "cell_type": "code",
      "source": [
        "def alterar_status():\n",
        "    id = int(input(\"Digite o ID da tarefa a ser concluída: \"))\n",
        "    for tarefa in tarefas:\n",
        "        if tarefa[\"id\"] == id:\n",
        "            tarefa[\"status\"] = \"concluída\"\n",
        "            print(\"Status da tarefa alterado para concluída.\")\n",
        "            return\n",
        "    print(\"ID de tarefa inválido.\")\n",
        "\n",
        "\n",
        "alterar_status()\n",
        "listar_tarefas()"
      ],
      "metadata": {
        "id": "PDUXJ03pn3-b"
      },
      "execution_count": null,
      "outputs": []
    },
    {
      "cell_type": "code",
      "source": [
        "def deletar_tarefa():\n",
        "    id = int(input(\"Digite o ID da tarefa a ser deletada: \"))\n",
        "    for tarefa in tarefas:\n",
        "        if tarefa[\"id\"] == id:\n",
        "            tarefas.remove(tarefa)\n",
        "            print(\"Tarefa deletada.\")\n",
        "            return\n",
        "    print(\"ID de tarefa inválido.\")\n",
        "\n",
        "\n",
        "deletar_tarefa()\n",
        "listar_tarefas()\n",
        "\n",
        "\n",
        "\n",
        "\n",
        "\n",
        "\n"
      ],
      "metadata": {
        "id": "DhJ9QamuoRzX"
      },
      "execution_count": null,
      "outputs": []
    },
    {
      "cell_type": "code",
      "source": [
        "def listar_tarefas_pendentes():\n",
        "    tarefas_pendentes = [tarefa for tarefa in tarefas if tarefa['status'] == 'pendente']\n",
        "    if len(tarefas_pendentes) == 0:\n",
        "        print(\"Não há tarefas pendentes.\")\n",
        "    else:\n",
        "        for tarefa in tarefas_pendentes:\n",
        "            print(f\"Tarefa: {tarefa['tarefa']}, Status: {tarefa['status']}\")\n",
        "\n",
        "\n",
        "listar_tarefas_pendentes()"
      ],
      "metadata": {
        "id": "5ONBCInHoYBd"
      },
      "execution_count": null,
      "outputs": []
    }
  ]
}